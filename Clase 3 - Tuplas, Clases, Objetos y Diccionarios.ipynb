{
 "cells": [
  {
   "cell_type": "code",
   "execution_count": 62,
   "id": "f9c41ce1",
   "metadata": {},
   "outputs": [],
   "source": [
    "#Una tupla es una estructura de datos inmutable que contiene un conjunto ordenado de elementos separados por comas y\n",
    "#encerrados en parentensis. A diferencia de las LISTAS, las tuplas no pueden ser modificadas una vez creadas. \n",
    "#Para crear una tupla en Python, se pueden usar parentesis y separas los elementos con comas. Por ejemplo:\n",
    "mi_tupla_numerica = (0,1,2,3,4)\n",
    "#Tambien se puede crear una tupla sin el uso de los parentesis separando los elementos con comas. Por ejemplo:\n",
    "mi_tupla_sin_parentesis = 6,7,8,9,10,'rojo','verde'"
   ]
  },
  {
   "cell_type": "code",
   "execution_count": 5,
   "id": "1a940b53",
   "metadata": {},
   "outputs": [
    {
     "name": "stdout",
     "output_type": "stream",
     "text": [
      "(1, 2, 3, 4, 5)\n"
     ]
    }
   ],
   "source": [
    "print(mi_tupla_numerica)"
   ]
  },
  {
   "cell_type": "code",
   "execution_count": 8,
   "id": "a21929a7",
   "metadata": {},
   "outputs": [
    {
     "name": "stdout",
     "output_type": "stream",
     "text": [
      "(6, 7, 8, 9, 10, 'rojo', 'verde')\n"
     ]
    }
   ],
   "source": [
    "print(mi_tupla_sin_parentesis)"
   ]
  },
  {
   "cell_type": "code",
   "execution_count": 12,
   "id": "8559324a",
   "metadata": {},
   "outputs": [
    {
     "name": "stdout",
     "output_type": "stream",
     "text": [
      "4\n"
     ]
    }
   ],
   "source": [
    "#Se puede acceder a los elementos de las tuplas utilizando el indice de los mismos. Los indices de las tuplas comienzan en 0\n",
    "print(mi_tupla_numerica[3])"
   ]
  },
  {
   "cell_type": "code",
   "execution_count": 65,
   "id": "79a7288f",
   "metadata": {},
   "outputs": [
    {
     "name": "stdout",
     "output_type": "stream",
     "text": [
      "(0, 1)\n"
     ]
    }
   ],
   "source": [
    "#Las tuplas admiten el acceso a varios elementos de la misma, se lo conoce como SLICE. \n",
    "#mi_tupla_numerica\n",
    "#Si nos manejamos por rangos usando el SLICE, tener en cuenta que el numero de la izquierda (n) del SLICE no es tenido en cuenta.\n",
    "#[n:m]\n",
    "#print(mi_tupla_numerica[0:1])\n",
    "print(mi_tupla_numerica[0:2])"
   ]
  },
  {
   "cell_type": "code",
   "execution_count": 53,
   "id": "183d5c42",
   "metadata": {},
   "outputs": [],
   "source": [
    "mi_tupla = (3,1,4,1,5,9,2,6,5,3)"
   ]
  },
  {
   "cell_type": "code",
   "execution_count": 56,
   "id": "fab6e2a9",
   "metadata": {},
   "outputs": [],
   "source": [
    "#Usando la funcion sorted() se puede ordenar los elementos de una tupla.\n",
    "mi_tupla_ordenada = sorted(mi_tupla)"
   ]
  },
  {
   "cell_type": "code",
   "execution_count": 57,
   "id": "3663a19e",
   "metadata": {},
   "outputs": [
    {
     "data": {
      "text/plain": [
       "[1, 1, 2, 3, 3, 4, 5, 5, 6, 9]"
      ]
     },
     "execution_count": 57,
     "metadata": {},
     "output_type": "execute_result"
    }
   ],
   "source": [
    "mi_tupla_ordenada"
   ]
  },
  {
   "cell_type": "code",
   "execution_count": 58,
   "id": "38eeb5be",
   "metadata": {},
   "outputs": [
    {
     "name": "stdout",
     "output_type": "stream",
     "text": [
      "El largo de la tupla es:  10\n"
     ]
    }
   ],
   "source": [
    "print(\"El largo de la tupla es: \", len(mi_tupla))"
   ]
  },
  {
   "cell_type": "code",
   "execution_count": 68,
   "id": "5640af34",
   "metadata": {},
   "outputs": [],
   "source": [
    "################################################ Clases ################################################\n",
    "#Una clase en Python es una forma de declarar una sección de codigo que a traves de Objetos busca reflejar un elemento abstracto.\n",
    "class Estudiante:\n",
    "    def __init__(self, nombre, edad, grado, materias, calificaciones): #Self significa que se refiere al \n",
    "                                                                       #objeto o atributo de la actual clase\n",
    "                                                                       #__init__ es un metodo especial de Python que se utiliza\n",
    "                                                                       # para inicializar los atributos de una instancia de la clase. \n",
    "                                                                       # Este metodo se ejecuta automaticamente cuando se crea una nueva\n",
    "                                                                       # Instancia de una clase y se utiliza para establecer los valores\n",
    "                                                                       # iniciales de la misma. \n",
    "        self.nombre = nombre \n",
    "        self.edad = edad\n",
    "        self.grado = grado\n",
    "        self.materias = materias\n",
    "        self.calificaciones = calificaciones\n",
    "    def promedio(self):\n",
    "        return sum(self.calificaciones) / len(self.calificaciones)\n",
    "    def agregar_materia(self, materia, calificacion):\n",
    "        self.materias.append(materia)\n",
    "        self.calificaciones.append(calificacion)\n",
    "    def actualizar_calificacion(self, materia, nueva_calificacion):\n",
    "        index = self.materias.index(materia)\n",
    "        self.calificaciones[index] = nueva_calificacion"
   ]
  },
  {
   "cell_type": "code",
   "execution_count": 70,
   "id": "f2a506e9",
   "metadata": {},
   "outputs": [
    {
     "name": "stdout",
     "output_type": "stream",
     "text": [
      "Gustavo\n",
      "30\n",
      "1.5\n"
     ]
    }
   ],
   "source": [
    "estudiante1 = Estudiante(\"Gustavo\", 30, 9, [\"Matematicas\", \"Lengua\"], [1,2])\n",
    "print(estudiante1.nombre)\n",
    "print(estudiante1.edad)\n",
    "print(estudiante1.promedio())"
   ]
  },
  {
   "cell_type": "code",
   "execution_count": 82,
   "id": "89fc5c70",
   "metadata": {},
   "outputs": [],
   "source": [
    "estudiante2 = Estudiante(\"Monica\", 25, 6, [\"Matematicas\"], [1])"
   ]
  },
  {
   "cell_type": "code",
   "execution_count": 83,
   "id": "297b3a38",
   "metadata": {},
   "outputs": [
    {
     "name": "stdout",
     "output_type": "stream",
     "text": [
      "Monica\n",
      "25\n",
      "1.0\n"
     ]
    }
   ],
   "source": [
    "print(estudiante2.nombre)\n",
    "print(estudiante2.edad)\n",
    "print(estudiante2.promedio())"
   ]
  },
  {
   "cell_type": "code",
   "execution_count": 85,
   "id": "8ef5573e",
   "metadata": {},
   "outputs": [],
   "source": [
    "estudiante3 = Estudiante(\"Paco\", 20, 5, [\"Matematicas\"], [5])"
   ]
  },
  {
   "cell_type": "code",
   "execution_count": 86,
   "id": "d480ede7",
   "metadata": {},
   "outputs": [
    {
     "name": "stdout",
     "output_type": "stream",
     "text": [
      "Paco\n",
      "20\n",
      "5.0\n"
     ]
    }
   ],
   "source": [
    "print(estudiante3.nombre)\n",
    "print(estudiante3.edad)\n",
    "print(estudiante3.promedio())"
   ]
  },
  {
   "cell_type": "code",
   "execution_count": 87,
   "id": "e132f819",
   "metadata": {},
   "outputs": [],
   "source": [
    "class Autos:\n",
    "    def __init__(self, nombre, color, marca):\n",
    "        self.nombre= nombre\n",
    "        self.color = color\n",
    "        self.marca = marca"
   ]
  },
  {
   "cell_type": "code",
   "execution_count": 88,
   "id": "b79b1b95",
   "metadata": {},
   "outputs": [],
   "source": [
    "autoPreferido = Autos(\"Camaro\", \"Rojo\", \"Chevrolet\")"
   ]
  },
  {
   "cell_type": "code",
   "execution_count": 96,
   "id": "1344732d",
   "metadata": {},
   "outputs": [
    {
     "name": "stdout",
     "output_type": "stream",
     "text": [
      "Mi auto preferido es: Camaro Rojo Chevrolet\n"
     ]
    }
   ],
   "source": [
    "print(\"Mi auto preferido es: \" + autoPreferido.nombre + \" \" + autoPreferido.color + \" \" + autoPreferido.marca)"
   ]
  },
  {
   "cell_type": "code",
   "execution_count": 111,
   "id": "cc6b3255",
   "metadata": {},
   "outputs": [
    {
     "name": "stdout",
     "output_type": "stream",
     "text": [
      "Introduzca el apodo del perro: Cachito\n",
      "Introduzca la raza: Ovejero Aleman\n",
      "Introduzca el peso: 15\n",
      "Introduzca la edad: 15\n",
      "Introduzca el apodo del perro: Paquito\n",
      "Introduzca la raza: Labrador\n",
      "Introduzca el peso: 10\n",
      "Introduzca la edad: 15\n",
      "Introduzca el apodo del perro: Robertito\n",
      "Introduzca la raza: 20\n",
      "Introduzca el peso: 15\n",
      "Introduzca la edad: 15\n",
      "Introduzca el apodo del perro: Laukim\n",
      "Introduzca la raza: Caniche\n",
      "Introduzca el peso: 20\n",
      "Introduzca la edad: 15\n",
      "Introduzca el apodo del perro: Lulux\n",
      "Introduzca la raza: Chiguagua\n",
      "Introduzca el peso: 10\n",
      "Introduzca la edad: 10\n"
     ]
    }
   ],
   "source": [
    "class Perro:\n",
    "    def __init__(self, apodo, raza, peso, edad):\n",
    "        self.apodo = apodo\n",
    "        self.raza = raza\n",
    "        self.peso = peso\n",
    "        self.edad = edad\n",
    "    def esperanzaDeVida(self):\n",
    "        if self.raza == \"Ovejero Aleman\":\n",
    "            return 15\n",
    "        elif self.raza == \"Golder Retriver\":\n",
    "            return 12\n",
    "        elif self.raza == \"Caniche\":\n",
    "            return 7\n",
    "        elif self.raza == \"Labrador\":\n",
    "            return 13\n",
    "        elif self.raza == \"Chiguagua\":\n",
    "            return 8\n",
    "    def propensoObesidad(self):\n",
    "        if self.raza == \"Ovejero Aleman\" and int(self.peso) > 30:\n",
    "            return True\n",
    "        elif self.raza == \"Golden Retriver\" and int(self.peso) > 20:\n",
    "            return True\n",
    "        elif self.raza == \"Caniche\" and int(self.peso) > 15:\n",
    "            return True\n",
    "        elif self.raza == \"Labrador\" and int(self.peso) >40:\n",
    "            return True\n",
    "        elif self.raza == \"Chiguagua\" and int(self.peso) >20:\n",
    "            return True\n",
    "\n",
    "nombre_archivo = \"recomendaciones_pacientes.txt\"\n",
    "archivo = open(nombre_archivo, 'w')\n",
    "\n",
    "for x in range(5):\n",
    "    perro = Perro(input(\"Introduzca el apodo del perro: \"), \n",
    "                  input(\"Introduzca la raza: \"), \n",
    "                  input(\"Introduzca el peso: \"), \n",
    "                  input(\"Introduzca la edad: \"))\n",
    "    archivo.write(\"Perro apodado: \")\n",
    "    archivo.write(perro.apodo)\n",
    "    archivo.write(\"\\n\")\n",
    "    archivo.write(\"Raza: \")\n",
    "    archivo.write(perro.raza)\n",
    "    archivo.write(\"\\n\")\n",
    "    archivo.write(\"Peso: \")\n",
    "    archivo.write(perro.peso)\n",
    "    archivo.write(\"\\n\")\n",
    "    archivo.write(\"Edad: \")\n",
    "    archivo.write(perro.edad)\n",
    "    archivo.write(\"\\n\")\n",
    "    archivo.write(\"Esperanza de vida: \")\n",
    "    archivo.write(str(perro.esperanzaDeVida()))\n",
    "    archivo.write(\"\\n\")\n",
    "    archivo.write(\"Propenso a obesidad: \")\n",
    "    if perro.propensoObesidad():\n",
    "        archivo.write(\"SI\")\n",
    "    else:\n",
    "        archivo.write(\"NO\")\n",
    "    archivo.write(\"\\n\")\n",
    "    archivo.write(\"\\n\")\n",
    "archivo.close()"
   ]
  },
  {
   "cell_type": "code",
   "execution_count": 186,
   "id": "42b99645",
   "metadata": {
    "scrolled": true
   },
   "outputs": [
    {
     "name": "stdout",
     "output_type": "stream",
     "text": [
      "nombre gustavo\n",
      "apellido vargas\n",
      "edad 30\n",
      "ciudad Barcelona\n",
      "Estado Civil Soltero\n"
     ]
    },
    {
     "data": {
      "text/plain": [
       "{'nombre': 'Robertito',\n",
       " 'apellido': 'vargas',\n",
       " 'edad': 30,\n",
       " 'ciudad': 'Barcelona',\n",
       " 'Estado Civil': 'Soltero'}"
      ]
     },
     "execution_count": 186,
     "metadata": {},
     "output_type": "execute_result"
    }
   ],
   "source": [
    "################################################# DICCIONARIOS #################################################\n",
    "#En Python un diccionario es una colección mutable, desordenada y sin duplicados de pares clave-valor. Se puede acceder a los\n",
    "#valores de un diccionario mediante sus claves, en lugar de por su posición como en las listas\n",
    "#La sintaxis para crear un diccionario es la siguiente:\n",
    "#diccionario = {clave1: valor1, clave2: valor2}\n",
    "#Las clave deben ser unicas y deben ser objetos hashables, como cadenas, numeros o tuplas. Los valores pueden ser de cualquier\n",
    "#tipo, incluyendo listas, tuplas, u objetos personalizados.\n",
    "mi_diccionario = {\"nombre\":\"gustavo\", \"apellido\": \"vargas\", \"edad\":30, \"ciudad\": \"Barcelona\"} #Declaro un diccionario\n",
    "#mi_diccionario\n",
    "mi_diccionario[\"Estado Civil\"] = \"Soltero\" #Agrego una clave al diccionario\n",
    "#mi_diccionario\n",
    "for clave, valor in mi_diccionario.items(): #el metodo Items en los diccionarios devuelve la lista de clave-valor. \n",
    "  #Recorro un diccionario con un FOR usando el metodo items()\n",
    "    print(clave, valor)\n",
    "#del mi_diccionario['nombre'] #Como eliminar una clave\n",
    "mi_diccionario['nombre'] = \"Robertito\" #Modifico el contenido de una clave del diccionario\n",
    "mi_diccionario"
   ]
  },
  {
   "cell_type": "code",
   "execution_count": 183,
   "id": "586a1da5",
   "metadata": {},
   "outputs": [],
   "source": [
    "dic1 = {\"nombre\": \"Gustavo\", \"apellido\": \"Vargas\"}\n",
    "dic2 = {\"3\": \"Ángela?\", \"B\": \"apellido\"}"
   ]
  },
  {
   "cell_type": "code",
   "execution_count": 184,
   "id": "8dee1f1b",
   "metadata": {},
   "outputs": [],
   "source": [
    "dic3 = dic1 | dic2 # | sirve para concatenar diccionarios. \n",
    "                    # Se puede concatenar diccionarios SIEMPRE y cuando las claves no sean las mismas, si son las mismas\n",
    "                    # reemplaza el valor."
   ]
  },
  {
   "cell_type": "code",
   "execution_count": 185,
   "id": "66c86b41",
   "metadata": {},
   "outputs": [
    {
     "data": {
      "text/plain": [
       "{'nombre': 'Gustavo', 'apellido': 'apellido', '3': 'Ángela?'}"
      ]
     },
     "execution_count": 185,
     "metadata": {},
     "output_type": "execute_result"
    }
   ],
   "source": [
    "dic3"
   ]
  },
  {
   "cell_type": "code",
   "execution_count": 188,
   "id": "0f300fa4",
   "metadata": {},
   "outputs": [
    {
     "name": "stdout",
     "output_type": "stream",
     "text": [
      "Adivina el numero del 1 al 10\n",
      "Que numero es?5\n",
      "Adivinaste chaval!\n"
     ]
    }
   ],
   "source": [
    "import random\n",
    "\n",
    "numero = random.randint(1, 10) #Entero random, del 1 al 10\n",
    "print(\"Adivina el numero del 1 al 10\")\n",
    "while True:\n",
    "    adivina = int(input(\"Que numero es?\"))\n",
    "    if adivina == numero:\n",
    "        print(\"Adivinaste chaval!\")\n",
    "        break\n",
    "    elif adivina < numero:\n",
    "        print(\"El numero es mas grande!\")\n",
    "    else:\n",
    "        print(\"El numero es mas pequeño! \")"
   ]
  }
 ],
 "metadata": {
  "kernelspec": {
   "display_name": "Python 3 (ipykernel)",
   "language": "python",
   "name": "python3"
  },
  "language_info": {
   "codemirror_mode": {
    "name": "ipython",
    "version": 3
   },
   "file_extension": ".py",
   "mimetype": "text/x-python",
   "name": "python",
   "nbconvert_exporter": "python",
   "pygments_lexer": "ipython3",
   "version": "3.9.13"
  }
 },
 "nbformat": 4,
 "nbformat_minor": 5
}
