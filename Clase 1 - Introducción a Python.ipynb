{
 "cells": [
  {
   "cell_type": "code",
   "execution_count": 44,
   "id": "9ff3393e",
   "metadata": {},
   "outputs": [
    {
     "name": "stdout",
     "output_type": "stream",
     "text": [
      "Hola mundo!\n",
      "Hola Mundo!!\n"
     ]
    }
   ],
   "source": [
    "print (\"Hola mundo!\")\n",
    "print ('Hola Mundo!!')"
   ]
  },
  {
   "cell_type": "code",
   "execution_count": 23,
   "id": "6731fe20",
   "metadata": {},
   "outputs": [],
   "source": [
    "##Numericos: Los numeros en PYthon puede ser enteros, por ejemplo el 5, flotantes, por ejemplo, 5.5 o complejos, por ejemplo 3+2j\n",
    "##Cadena de caracteres (string): Son secuencias de caracteres y se pueden definir utilizando comillas simples ('') o\n",
    "##comillas dobles (\"\"). \n",
    "##Listas: Son secuencia de valores que se pueden modificar. Se definen usando corchetes [] y los elementos se separan con comas.\n",
    "##Por ejemplo, [1,2,3,4,5,6,7,8,9,10]\n",
    "##Tuplas: Son secuencias de valores que NO se pueden modificar. Se definen usando parentesis () y los elementos se separan en comas\n",
    "##Por ejemplo, (1,2,3,4,5,6,7,8,9,10)\n",
    "##Conjuntos: Son colecciones de valores unicos y desordenados. Se definen usando llaves {} o la funcion set(). Por ejemplo\n",
    "##{1,2,3,4,5,6,7,8,9,10}\n",
    "##Diccionarios: Son colecciones de pares clave-valor. Se definen usando llaves {} y los pares clave-valor se separan con comas\n",
    "##y se separan por dos puntos :. Por ejemplo, {'nombre': 'Juan', 'edad': 25} es un ejemplo de diccionario.\n",
    "# ** Se utiliza para realizar operaciones aritmeticas de exponenciación. Cuando se usa\n",
    "#este operando eleva el primer operando a la potencia del segundo operando. "
   ]
  },
  {
   "cell_type": "code",
   "execution_count": 48,
   "id": "47fb5762",
   "metadata": {},
   "outputs": [],
   "source": [
    "edad = 30 #Numerico\n",
    "sueldo = 100.10 #Float\n",
    "complejo = 2+3j #Complejo\n",
    "nombre = 'Gustavo' #Cadena de caracteres\n",
    "lista = [1,2,3,4,5,6,7,8,9,10] #Tipo de lista\n",
    "lista_string = ['Rojo', 'Verde', 'Azul'] # Tipo de lista string\n",
    "lista_mezclada = [1, 'Hola', 'Chau', 2.0, True] # Lista mezclada\n",
    "coordenadas = (10,20) # Tupla\n",
    "punto = (-3.5, 2.0) # Tupla\n",
    "frutas = {'manzana', 'banana', 'naranja'} #Conjuntos\n",
    "letras = set('abracadabra') #Conjuntos\n",
    "persona = {'nombre': 'Juan', 'edad':25, 'ciudad': 'Madrid'} #Diccionario"
   ]
  },
  {
   "cell_type": "code",
   "execution_count": 36,
   "id": "a59abb13",
   "metadata": {},
   "outputs": [
    {
     "name": "stdout",
     "output_type": "stream",
     "text": [
      "30\n",
      "100.1\n",
      "(2+3j)\n",
      "Gustavo\n",
      "[1, 2, 3, 4, 5, 6, 7, 8, 9, 10]\n",
      "(10, 20)\n",
      "{'naranja', 'banana', 'manzana'}\n",
      "{'nombre': 'Juan', 'edad': 25, 'ciudad': 'Madrid'}\n"
     ]
    }
   ],
   "source": [
    "print(edad)\n",
    "print(sueldo)\n",
    "print(complejo)\n",
    "print(nombre)\n",
    "print(lista)\n",
    "print(coordenadas)\n",
    "print(frutas)\n",
    "print(persona)"
   ]
  },
  {
   "cell_type": "code",
   "execution_count": 43,
   "id": "df300e19",
   "metadata": {},
   "outputs": [
    {
     "name": "stdout",
     "output_type": "stream",
     "text": [
      "El nombre de la persona es: Gustavo\n"
     ]
    }
   ],
   "source": [
    "print(\"El nombre de la persona es: \" + nombre)"
   ]
  },
  {
   "cell_type": "code",
   "execution_count": 82,
   "id": "23999588",
   "metadata": {},
   "outputs": [
    {
     "name": "stdout",
     "output_type": "stream",
     "text": [
      "El nombre de la persona es: Gustavo y su edad es :30\n"
     ]
    }
   ],
   "source": [
    "print(\"El nombre de la persona es: \" + nombre + \" \" + \"y su edad es :\" + str(edad))"
   ]
  },
  {
   "cell_type": "code",
   "execution_count": 53,
   "id": "a65c756d",
   "metadata": {},
   "outputs": [
    {
     "name": "stdout",
     "output_type": "stream",
     "text": [
      "Bienvenido a mi programa! Por favor, indicame tu nombre\n",
      "Gustavo\n"
     ]
    }
   ],
   "source": [
    "##Voy a crear un programa que le pregunte al usuario como se llama.\n",
    "print(\"Bienvenido a mi programa! Por favor, indicame tu nombre\")\n",
    "nombre = input()"
   ]
  },
  {
   "cell_type": "code",
   "execution_count": 54,
   "id": "e2e5d985",
   "metadata": {},
   "outputs": [
    {
     "name": "stdout",
     "output_type": "stream",
     "text": [
      "Bienvenido a mi programa! Por favor, indica tu nombre: Gustavo\n"
     ]
    }
   ],
   "source": [
    "nombre = input(\"Bienvenido a mi programa! Por favor, indica tu nombre: \")"
   ]
  },
  {
   "cell_type": "code",
   "execution_count": 65,
   "id": "3f7bb918",
   "metadata": {},
   "outputs": [
    {
     "name": "stdout",
     "output_type": "stream",
     "text": [
      "Por favor ingresar tu edad: 30\n",
      "Por favor ingresa tu salario: 100.2\n",
      "Sos hombre?Yes\n",
      "Por favor ingresa tu nombre: Gustavo\n"
     ]
    }
   ],
   "source": [
    "edad = int(input(\"Por favor ingresar tu edad: \"))\n",
    "salario = float(input(\"Por favor ingresa tu salario: \"))\n",
    "verdadero_o_falso = bool(input(\"Sos hombre?\"))\n",
    "nombre = str(input(\"Por favor ingresa tu nombre: \"))"
   ]
  },
  {
   "cell_type": "code",
   "execution_count": 66,
   "id": "f985fa45",
   "metadata": {},
   "outputs": [],
   "source": [
    "################################################### EJERCICIO 1 ###################################################\n",
    "a = 1\n",
    "b = 2\n",
    "suma = a + b\n",
    "resta = a - b\n",
    "* #multiplicación\n",
    "/ #division\n",
    "+ # suma\n",
    "- # resta"
   ]
  },
  {
   "cell_type": "code",
   "execution_count": 93,
   "id": "f6e99c0b",
   "metadata": {},
   "outputs": [
    {
     "name": "stdout",
     "output_type": "stream",
     "text": [
      "0.5\n"
     ]
    }
   ],
   "source": [
    "numero_1 = 1\n",
    "numero_2 = 2\n",
    "suma = numero_1 + numero_2\n",
    "resta = numero_1 - numero_2\n",
    "multiplicacion = numero_1 * numero_2\n",
    "if numero_1 != 0 and numero_2 != 0:\n",
    "    division = numero_1 / numero_2\n",
    "    print(division)\n",
    "else:\n",
    "    print(\"No se puede dividir por 0\")   \n",
    "    #if condicion :\n",
    "        #todo lo que tiene que hacer\n",
    "    #else: \n",
    "         #algo\n",
    "#if maneja una situacion especifica\n",
    "#else maneja todo lo que no se contemple en el if"
   ]
  },
  {
   "cell_type": "code",
   "execution_count": 97,
   "id": "31b5daa8",
   "metadata": {},
   "outputs": [
    {
     "name": "stdout",
     "output_type": "stream",
     "text": [
      "1\n",
      "2\n",
      "3\n",
      "4\n",
      "5\n",
      "6\n",
      "7\n",
      "8\n",
      "9\n",
      "10\n"
     ]
    }
   ],
   "source": [
    "#While.\n",
    "#Voy a crear un programa con un contador de visitas y cuando el contador llegue a 10 voy a dejar de contar. \n",
    "contador = 1\n",
    "while contador <=10: #Con <= Le digo que sea menor o igual a diez. \n",
    "                     # < Menor\n",
    "                     # > Mayor\n",
    "                     # <= menor o igual\n",
    "                     # >= mayor o igual\n",
    "                     # != distinto\n",
    "                     # = igual ==  este segundo se usa en IFS, Whiles, etcera. \n",
    "    print(contador)\n",
    "    contador += 1 #Aumenta 1 cada vez que da una vuelta.\n",
    "    # Lectura de datos de un archivo\n",
    "    # Procesamiento de datos de una BASE de datos\n",
    "    # Procesamiento de datos en tiempo real"
   ]
  },
  {
   "cell_type": "code",
   "execution_count": 105,
   "id": "62305093",
   "metadata": {},
   "outputs": [
    {
     "name": "stdout",
     "output_type": "stream",
     "text": [
      "1\n",
      "2\n",
      "3\n",
      "4\n",
      "5\n",
      "6\n",
      "7\n",
      "8\n",
      "9\n",
      "10\n"
     ]
    }
   ],
   "source": [
    "numeros = [1,2,3,4,5,6,7,8,9,10]\n",
    "print(numeros)\n",
    "for numero in numeros:\n",
    "    print(numero)\n",
    "    # Recorrer una lista o una tupla\n",
    "    # Recorrer un rango numerico\n",
    "    # Recorrer un diccionario\n",
    "    # Procesamiento de archivos ¿? Porque tenes que recorrer CADA linea del archivo. "
   ]
  }
 ],
 "metadata": {
  "kernelspec": {
   "display_name": "Python 3 (ipykernel)",
   "language": "python",
   "name": "python3"
  },
  "language_info": {
   "codemirror_mode": {
    "name": "ipython",
    "version": 3
   },
   "file_extension": ".py",
   "mimetype": "text/x-python",
   "name": "python",
   "nbconvert_exporter": "python",
   "pygments_lexer": "ipython3",
   "version": "3.9.13"
  }
 },
 "nbformat": 4,
 "nbformat_minor": 5
}
