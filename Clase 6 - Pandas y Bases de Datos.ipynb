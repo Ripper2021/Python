{
 "cells": [
  {
   "cell_type": "code",
   "execution_count": 1,
   "id": "b7dc909b",
   "metadata": {},
   "outputs": [],
   "source": [
    "############################################### EJEMPLO DE PANDAS GENERANDO DATAFRAME Y UN CSV DE SALIDA ##################################################\n",
    "import pandas as pd"
   ]
  },
  {
   "cell_type": "code",
   "execution_count": 11,
   "id": "e71a338c",
   "metadata": {},
   "outputs": [],
   "source": [
    "datos = {'nombre': ['Ana', 'Gustavo', 'Juan', 'Pedro', 'Ángela'], 'edad':[20,30,30,30,50], 'ciudad': ['Madrid','Barcelona','Sevilla',' Valencia', 'Malaga']}"
   ]
  },
  {
   "cell_type": "code",
   "execution_count": 12,
   "id": "f2948c8e",
   "metadata": {},
   "outputs": [
    {
     "data": {
      "text/plain": [
       "{'nombre': ['Ana', 'Gustavo', 'Juan', 'Pedro', 'Ángela'],\n",
       " 'edad': [20, 30, 30, 30, 50],\n",
       " 'ciudad': ['Madrid', 'Barcelona', 'Sevilla', ' Valencia', 'Malaga']}"
      ]
     },
     "execution_count": 12,
     "metadata": {},
     "output_type": "execute_result"
    }
   ],
   "source": [
    "datos"
   ]
  },
  {
   "cell_type": "code",
   "execution_count": 13,
   "id": "da4c6fd0",
   "metadata": {},
   "outputs": [],
   "source": [
    "df = pd.DataFrame(datos) #Generacion de un DataFrame en base a datos"
   ]
  },
  {
   "cell_type": "code",
   "execution_count": 14,
   "id": "2c8ddfd0",
   "metadata": {},
   "outputs": [
    {
     "data": {
      "text/html": [
       "<div>\n",
       "<style scoped>\n",
       "    .dataframe tbody tr th:only-of-type {\n",
       "        vertical-align: middle;\n",
       "    }\n",
       "\n",
       "    .dataframe tbody tr th {\n",
       "        vertical-align: top;\n",
       "    }\n",
       "\n",
       "    .dataframe thead th {\n",
       "        text-align: right;\n",
       "    }\n",
       "</style>\n",
       "<table border=\"1\" class=\"dataframe\">\n",
       "  <thead>\n",
       "    <tr style=\"text-align: right;\">\n",
       "      <th></th>\n",
       "      <th>nombre</th>\n",
       "      <th>edad</th>\n",
       "      <th>ciudad</th>\n",
       "    </tr>\n",
       "  </thead>\n",
       "  <tbody>\n",
       "    <tr>\n",
       "      <th>0</th>\n",
       "      <td>Ana</td>\n",
       "      <td>20</td>\n",
       "      <td>Madrid</td>\n",
       "    </tr>\n",
       "    <tr>\n",
       "      <th>1</th>\n",
       "      <td>Gustavo</td>\n",
       "      <td>30</td>\n",
       "      <td>Barcelona</td>\n",
       "    </tr>\n",
       "    <tr>\n",
       "      <th>2</th>\n",
       "      <td>Juan</td>\n",
       "      <td>30</td>\n",
       "      <td>Sevilla</td>\n",
       "    </tr>\n",
       "    <tr>\n",
       "      <th>3</th>\n",
       "      <td>Pedro</td>\n",
       "      <td>30</td>\n",
       "      <td>Valencia</td>\n",
       "    </tr>\n",
       "    <tr>\n",
       "      <th>4</th>\n",
       "      <td>Ángela</td>\n",
       "      <td>50</td>\n",
       "      <td>Malaga</td>\n",
       "    </tr>\n",
       "  </tbody>\n",
       "</table>\n",
       "</div>"
      ],
      "text/plain": [
       "    nombre  edad     ciudad\n",
       "0      Ana    20     Madrid\n",
       "1  Gustavo    30  Barcelona\n",
       "2     Juan    30    Sevilla\n",
       "3    Pedro    30   Valencia\n",
       "4   Ángela    50     Malaga"
      ]
     },
     "execution_count": 14,
     "metadata": {},
     "output_type": "execute_result"
    }
   ],
   "source": [
    "df"
   ]
  },
  {
   "cell_type": "code",
   "execution_count": 24,
   "id": "9ab9d2c8",
   "metadata": {},
   "outputs": [
    {
     "data": {
      "text/html": [
       "<div>\n",
       "<style scoped>\n",
       "    .dataframe tbody tr th:only-of-type {\n",
       "        vertical-align: middle;\n",
       "    }\n",
       "\n",
       "    .dataframe tbody tr th {\n",
       "        vertical-align: top;\n",
       "    }\n",
       "\n",
       "    .dataframe thead th {\n",
       "        text-align: right;\n",
       "    }\n",
       "</style>\n",
       "<table border=\"1\" class=\"dataframe\">\n",
       "  <thead>\n",
       "    <tr style=\"text-align: right;\">\n",
       "      <th></th>\n",
       "      <th>nombre</th>\n",
       "      <th>edad</th>\n",
       "      <th>ciudad</th>\n",
       "      <th>Segmentacion</th>\n",
       "    </tr>\n",
       "  </thead>\n",
       "  <tbody>\n",
       "    <tr>\n",
       "      <th>0</th>\n",
       "      <td>Ana</td>\n",
       "      <td>20</td>\n",
       "      <td>Madrid</td>\n",
       "      <td>Joven</td>\n",
       "    </tr>\n",
       "    <tr>\n",
       "      <th>1</th>\n",
       "      <td>Gustavo</td>\n",
       "      <td>30</td>\n",
       "      <td>Barcelona</td>\n",
       "      <td>Joven a medias</td>\n",
       "    </tr>\n",
       "    <tr>\n",
       "      <th>2</th>\n",
       "      <td>Juan</td>\n",
       "      <td>30</td>\n",
       "      <td>Sevilla</td>\n",
       "      <td>Joven a medias</td>\n",
       "    </tr>\n",
       "    <tr>\n",
       "      <th>3</th>\n",
       "      <td>Pedro</td>\n",
       "      <td>30</td>\n",
       "      <td>Valencia</td>\n",
       "      <td>Joven a medias</td>\n",
       "    </tr>\n",
       "    <tr>\n",
       "      <th>4</th>\n",
       "      <td>Ángela</td>\n",
       "      <td>50</td>\n",
       "      <td>Malaga</td>\n",
       "      <td>Viej@</td>\n",
       "    </tr>\n",
       "  </tbody>\n",
       "</table>\n",
       "</div>"
      ],
      "text/plain": [
       "    nombre  edad     ciudad    Segmentacion\n",
       "0      Ana    20     Madrid           Joven\n",
       "1  Gustavo    30  Barcelona  Joven a medias\n",
       "2     Juan    30    Sevilla  Joven a medias\n",
       "3    Pedro    30   Valencia  Joven a medias\n",
       "4   Ángela    50     Malaga           Viej@"
      ]
     },
     "execution_count": 24,
     "metadata": {},
     "output_type": "execute_result"
    }
   ],
   "source": [
    "df.head()  #Head lo que hace es hacer una muestra de los primeros 100 registros\n",
    "           # o de los que se les indique entre los parentesis"
   ]
  },
  {
   "cell_type": "code",
   "execution_count": 19,
   "id": "50f93b12",
   "metadata": {},
   "outputs": [],
   "source": [
    "def generaSegmentacion(edad):\n",
    "    if edad == 20:\n",
    "        return 'Joven'\n",
    "    elif edad == 30:\n",
    "        return 'Joven a medias'\n",
    "    elif edad == 50:\n",
    "        return 'Viej@'\n",
    "df['Segmentacion'] = df['edad'].apply(generaSegmentacion) #apply aplica\n",
    "                                                          #una funcion a un df"
   ]
  },
  {
   "cell_type": "code",
   "execution_count": 28,
   "id": "ecc5ac12",
   "metadata": {},
   "outputs": [],
   "source": [
    "#Hacemos una columna en base a varias columnas\n",
    "df['Edad_segmentacion'] = df.apply(lambda x: f\"{x['edad']} - {x['Segmentacion']}\", axis=1)\n",
    "                          #axis = 1 entonces aplica esta funcion a lo largo de las filas\n",
    "                          #axis = 0 entonces aplica esta funcion a lo largo de las columnas involucradas"
   ]
  },
  {
   "cell_type": "code",
   "execution_count": 36,
   "id": "c06bd19a",
   "metadata": {},
   "outputs": [],
   "source": [
    "df.to_csv(\"C:\\\\Users\\\\Gusta\\\\OneDrive\\\\Documentos\\\\Backup\\\\Grupo Loyal\\\\salida.csv\")"
   ]
  },
  {
   "cell_type": "code",
   "execution_count": 84,
   "id": "9bc0c42b",
   "metadata": {},
   "outputs": [],
   "source": [
    "################################################# Leo un CSV #################################################\n",
    "import pandas as pd\n",
    "df = pd.read_csv(r\"C:\\\\Users\\\\Gusta\\\\Downloads\\\\divorcios-2019 (1).csv\")"
   ]
  },
  {
   "cell_type": "code",
   "execution_count": 89,
   "id": "f16d270d",
   "metadata": {},
   "outputs": [],
   "source": [
    "df_filtrado = df[df['fecha_creacion_divorcio'] > '2019-01-02 12:34:04']"
   ]
  },
  {
   "cell_type": "code",
   "execution_count": 90,
   "id": "9f871856",
   "metadata": {},
   "outputs": [
    {
     "data": {
      "text/html": [
       "<div>\n",
       "<style scoped>\n",
       "    .dataframe tbody tr th:only-of-type {\n",
       "        vertical-align: middle;\n",
       "    }\n",
       "\n",
       "    .dataframe tbody tr th {\n",
       "        vertical-align: top;\n",
       "    }\n",
       "\n",
       "    .dataframe thead th {\n",
       "        text-align: right;\n",
       "    }\n",
       "</style>\n",
       "<table border=\"1\" class=\"dataframe\">\n",
       "  <thead>\n",
       "    <tr style=\"text-align: right;\">\n",
       "      <th></th>\n",
       "      <th>fecha_creacion_divorcio</th>\n",
       "      <th>genero_1</th>\n",
       "      <th>genero_2</th>\n",
       "      <th>fecha_matrimonio</th>\n",
       "    </tr>\n",
       "  </thead>\n",
       "  <tbody>\n",
       "    <tr>\n",
       "      <th>1</th>\n",
       "      <td>2019-01-04 07:13:40</td>\n",
       "      <td>Masculino</td>\n",
       "      <td>Femenino</td>\n",
       "      <td>2014-08-01 00:00:00</td>\n",
       "    </tr>\n",
       "    <tr>\n",
       "      <th>2</th>\n",
       "      <td>2019-01-04 07:15:17</td>\n",
       "      <td>Masculino</td>\n",
       "      <td>Femenino</td>\n",
       "      <td>1996-04-26 00:00:00</td>\n",
       "    </tr>\n",
       "    <tr>\n",
       "      <th>3</th>\n",
       "      <td>2019-01-04 07:18:32</td>\n",
       "      <td>Masculino</td>\n",
       "      <td>Femenino</td>\n",
       "      <td>1999-07-16 00:00:00</td>\n",
       "    </tr>\n",
       "    <tr>\n",
       "      <th>4</th>\n",
       "      <td>2019-01-04 07:19:58</td>\n",
       "      <td>Masculino</td>\n",
       "      <td>No declara</td>\n",
       "      <td>1994-03-29 00:00:00</td>\n",
       "    </tr>\n",
       "    <tr>\n",
       "      <th>5</th>\n",
       "      <td>2019-01-04 07:22:20</td>\n",
       "      <td>Masculino</td>\n",
       "      <td>Femenino</td>\n",
       "      <td>2013-11-20 00:00:00</td>\n",
       "    </tr>\n",
       "    <tr>\n",
       "      <th>...</th>\n",
       "      <td>...</td>\n",
       "      <td>...</td>\n",
       "      <td>...</td>\n",
       "      <td>...</td>\n",
       "    </tr>\n",
       "    <tr>\n",
       "      <th>3683</th>\n",
       "      <td>2019-08-30 12:19:27</td>\n",
       "      <td>No declara</td>\n",
       "      <td>Femenino</td>\n",
       "      <td>1994-03-24 00:00:00</td>\n",
       "    </tr>\n",
       "    <tr>\n",
       "      <th>3684</th>\n",
       "      <td>2019-08-30 12:33:54</td>\n",
       "      <td>Masculino</td>\n",
       "      <td>Femenino</td>\n",
       "      <td>2006-10-18 00:00:00</td>\n",
       "    </tr>\n",
       "    <tr>\n",
       "      <th>3685</th>\n",
       "      <td>2019-08-30 13:39:46</td>\n",
       "      <td>Masculino</td>\n",
       "      <td>Femenino</td>\n",
       "      <td>1972-03-13 00:00:00</td>\n",
       "    </tr>\n",
       "    <tr>\n",
       "      <th>3686</th>\n",
       "      <td>2019-08-30 13:51:08</td>\n",
       "      <td>Masculino</td>\n",
       "      <td>Femenino</td>\n",
       "      <td>1975-03-12 00:00:00</td>\n",
       "    </tr>\n",
       "    <tr>\n",
       "      <th>3687</th>\n",
       "      <td>2019-08-30 14:06:16</td>\n",
       "      <td>Masculino</td>\n",
       "      <td>Femenino</td>\n",
       "      <td>1978-06-02 00:00:00</td>\n",
       "    </tr>\n",
       "  </tbody>\n",
       "</table>\n",
       "<p>3687 rows × 4 columns</p>\n",
       "</div>"
      ],
      "text/plain": [
       "     fecha_creacion_divorcio    genero_1    genero_2     fecha_matrimonio\n",
       "1        2019-01-04 07:13:40   Masculino    Femenino  2014-08-01 00:00:00\n",
       "2        2019-01-04 07:15:17   Masculino    Femenino  1996-04-26 00:00:00\n",
       "3        2019-01-04 07:18:32   Masculino    Femenino  1999-07-16 00:00:00\n",
       "4        2019-01-04 07:19:58   Masculino  No declara  1994-03-29 00:00:00\n",
       "5        2019-01-04 07:22:20   Masculino    Femenino  2013-11-20 00:00:00\n",
       "...                      ...         ...         ...                  ...\n",
       "3683     2019-08-30 12:19:27  No declara    Femenino  1994-03-24 00:00:00\n",
       "3684     2019-08-30 12:33:54   Masculino    Femenino  2006-10-18 00:00:00\n",
       "3685     2019-08-30 13:39:46   Masculino    Femenino  1972-03-13 00:00:00\n",
       "3686     2019-08-30 13:51:08   Masculino    Femenino  1975-03-12 00:00:00\n",
       "3687     2019-08-30 14:06:16   Masculino    Femenino  1978-06-02 00:00:00\n",
       "\n",
       "[3687 rows x 4 columns]"
      ]
     },
     "execution_count": 90,
     "metadata": {},
     "output_type": "execute_result"
    }
   ],
   "source": [
    "df_filtrado"
   ]
  },
  {
   "cell_type": "code",
   "execution_count": 45,
   "id": "b779a71b",
   "metadata": {},
   "outputs": [],
   "source": [
    "df_ordenado = df.sort_values(by='fecha_creacion_divorcio') #Como ordenar un dataframe"
   ]
  },
  {
   "cell_type": "code",
   "execution_count": 46,
   "id": "9f566197",
   "metadata": {},
   "outputs": [
    {
     "data": {
      "text/html": [
       "<div>\n",
       "<style scoped>\n",
       "    .dataframe tbody tr th:only-of-type {\n",
       "        vertical-align: middle;\n",
       "    }\n",
       "\n",
       "    .dataframe tbody tr th {\n",
       "        vertical-align: top;\n",
       "    }\n",
       "\n",
       "    .dataframe thead th {\n",
       "        text-align: right;\n",
       "    }\n",
       "</style>\n",
       "<table border=\"1\" class=\"dataframe\">\n",
       "  <thead>\n",
       "    <tr style=\"text-align: right;\">\n",
       "      <th></th>\n",
       "      <th>fecha_creacion_divorcio</th>\n",
       "      <th>genero_1</th>\n",
       "      <th>genero_2</th>\n",
       "      <th>fecha_matrimonio</th>\n",
       "    </tr>\n",
       "  </thead>\n",
       "  <tbody>\n",
       "    <tr>\n",
       "      <th>0</th>\n",
       "      <td>2019-01-02 12:34:04</td>\n",
       "      <td>Masculino</td>\n",
       "      <td>Femenino</td>\n",
       "      <td>2003-02-14 00:00:00</td>\n",
       "    </tr>\n",
       "    <tr>\n",
       "      <th>1</th>\n",
       "      <td>2019-01-04 07:13:40</td>\n",
       "      <td>Masculino</td>\n",
       "      <td>Femenino</td>\n",
       "      <td>2014-08-01 00:00:00</td>\n",
       "    </tr>\n",
       "    <tr>\n",
       "      <th>2</th>\n",
       "      <td>2019-01-04 07:15:17</td>\n",
       "      <td>Masculino</td>\n",
       "      <td>Femenino</td>\n",
       "      <td>1996-04-26 00:00:00</td>\n",
       "    </tr>\n",
       "    <tr>\n",
       "      <th>3</th>\n",
       "      <td>2019-01-04 07:18:32</td>\n",
       "      <td>Masculino</td>\n",
       "      <td>Femenino</td>\n",
       "      <td>1999-07-16 00:00:00</td>\n",
       "    </tr>\n",
       "    <tr>\n",
       "      <th>4</th>\n",
       "      <td>2019-01-04 07:19:58</td>\n",
       "      <td>Masculino</td>\n",
       "      <td>No declara</td>\n",
       "      <td>1994-03-29 00:00:00</td>\n",
       "    </tr>\n",
       "    <tr>\n",
       "      <th>...</th>\n",
       "      <td>...</td>\n",
       "      <td>...</td>\n",
       "      <td>...</td>\n",
       "      <td>...</td>\n",
       "    </tr>\n",
       "    <tr>\n",
       "      <th>3683</th>\n",
       "      <td>2019-08-30 12:19:27</td>\n",
       "      <td>No declara</td>\n",
       "      <td>Femenino</td>\n",
       "      <td>1994-03-24 00:00:00</td>\n",
       "    </tr>\n",
       "    <tr>\n",
       "      <th>3684</th>\n",
       "      <td>2019-08-30 12:33:54</td>\n",
       "      <td>Masculino</td>\n",
       "      <td>Femenino</td>\n",
       "      <td>2006-10-18 00:00:00</td>\n",
       "    </tr>\n",
       "    <tr>\n",
       "      <th>3685</th>\n",
       "      <td>2019-08-30 13:39:46</td>\n",
       "      <td>Masculino</td>\n",
       "      <td>Femenino</td>\n",
       "      <td>1972-03-13 00:00:00</td>\n",
       "    </tr>\n",
       "    <tr>\n",
       "      <th>3686</th>\n",
       "      <td>2019-08-30 13:51:08</td>\n",
       "      <td>Masculino</td>\n",
       "      <td>Femenino</td>\n",
       "      <td>1975-03-12 00:00:00</td>\n",
       "    </tr>\n",
       "    <tr>\n",
       "      <th>3687</th>\n",
       "      <td>2019-08-30 14:06:16</td>\n",
       "      <td>Masculino</td>\n",
       "      <td>Femenino</td>\n",
       "      <td>1978-06-02 00:00:00</td>\n",
       "    </tr>\n",
       "  </tbody>\n",
       "</table>\n",
       "<p>3688 rows × 4 columns</p>\n",
       "</div>"
      ],
      "text/plain": [
       "     fecha_creacion_divorcio    genero_1    genero_2     fecha_matrimonio\n",
       "0        2019-01-02 12:34:04   Masculino    Femenino  2003-02-14 00:00:00\n",
       "1        2019-01-04 07:13:40   Masculino    Femenino  2014-08-01 00:00:00\n",
       "2        2019-01-04 07:15:17   Masculino    Femenino  1996-04-26 00:00:00\n",
       "3        2019-01-04 07:18:32   Masculino    Femenino  1999-07-16 00:00:00\n",
       "4        2019-01-04 07:19:58   Masculino  No declara  1994-03-29 00:00:00\n",
       "...                      ...         ...         ...                  ...\n",
       "3683     2019-08-30 12:19:27  No declara    Femenino  1994-03-24 00:00:00\n",
       "3684     2019-08-30 12:33:54   Masculino    Femenino  2006-10-18 00:00:00\n",
       "3685     2019-08-30 13:39:46   Masculino    Femenino  1972-03-13 00:00:00\n",
       "3686     2019-08-30 13:51:08   Masculino    Femenino  1975-03-12 00:00:00\n",
       "3687     2019-08-30 14:06:16   Masculino    Femenino  1978-06-02 00:00:00\n",
       "\n",
       "[3688 rows x 4 columns]"
      ]
     },
     "execution_count": 46,
     "metadata": {},
     "output_type": "execute_result"
    }
   ],
   "source": [
    "df_ordenado"
   ]
  },
  {
   "cell_type": "code",
   "execution_count": 47,
   "id": "1dc322ce",
   "metadata": {},
   "outputs": [],
   "source": [
    "total_registros = df['fecha_creacion_divorcio'].count() #la funcion count cuenta como bien indica su nombre. "
   ]
  },
  {
   "cell_type": "code",
   "execution_count": 51,
   "id": "3202f539",
   "metadata": {},
   "outputs": [],
   "source": [
    "############################################ FUNCION LAMBDA ############################################\n",
    "# La funcion lambda en python se utiliza para crear FUNCIONES ANONIMAS de una sola linea que pueden ser utilizadas\n",
    "# en cualquier lugar donde se espera una funcion.\n",
    "# Ejemplo:\n",
    "multiplicar = lambda x,y: x*y\n",
    "resultado = multiplicar(4,5)\n",
    "resultado"
   ]
  },
  {
   "cell_type": "code",
   "execution_count": 52,
   "id": "8f4a94c1",
   "metadata": {},
   "outputs": [
    {
     "data": {
      "text/plain": [
       "[2, 4, 6, 8, 10]"
      ]
     },
     "execution_count": 52,
     "metadata": {},
     "output_type": "execute_result"
    }
   ],
   "source": [
    "numeros = [1,2,3,4,5,6,7,8,9,10]\n",
    "numeros_pares = list(filter(lambda x: x % 2 == 0, numeros))\n",
    "numeros_pares"
   ]
  },
  {
   "cell_type": "code",
   "execution_count": 56,
   "id": "d9def70e",
   "metadata": {},
   "outputs": [
    {
     "data": {
      "text/plain": [
       "25"
      ]
     },
     "execution_count": 56,
     "metadata": {},
     "output_type": "execute_result"
    }
   ],
   "source": [
    "cuadrado = lambda x: x **2\n",
    "resultado = cuadrado (5)\n",
    "resultado"
   ]
  },
  {
   "cell_type": "code",
   "execution_count": 60,
   "id": "8a3f083d",
   "metadata": {},
   "outputs": [
    {
     "data": {
      "text/plain": [
       "['Gato', 'Perro', 'Raton', 'Elefante']"
      ]
     },
     "execution_count": 60,
     "metadata": {},
     "output_type": "execute_result"
    }
   ],
   "source": [
    "animales = ['Perro', 'Gato', 'Elefante', 'Raton']\n",
    "animales_ordenados = sorted(animales, key=lambda x: len(x))\n",
    "animales_ordenados"
   ]
  },
  {
   "cell_type": "code",
   "execution_count": 63,
   "id": "dfa76dba",
   "metadata": {},
   "outputs": [
    {
     "data": {
      "text/plain": [
       "'Hola Mundo!'"
      ]
     },
     "execution_count": 63,
     "metadata": {},
     "output_type": "execute_result"
    }
   ],
   "source": [
    "cadena = 'Hola Mundo!'\n",
    "convertir_a_mayusculas = lambda x: x.upper()\n",
    "resultado = convertir_a_mayusculas(cadena)\n",
    "cadena"
   ]
  },
  {
   "cell_type": "code",
   "execution_count": 70,
   "id": "99e160c1",
   "metadata": {},
   "outputs": [
    {
     "data": {
      "text/plain": [
       "20"
      ]
     },
     "execution_count": 70,
     "metadata": {},
     "output_type": "execute_result"
    }
   ],
   "source": [
    "def suma_funcion (x, y):\n",
    "    return x+y\n",
    "sumar = suma_funcion(10,10)\n",
    "sumar"
   ]
  },
  {
   "cell_type": "code",
   "execution_count": 71,
   "id": "ed906f62",
   "metadata": {},
   "outputs": [
    {
     "data": {
      "text/plain": [
       "20"
      ]
     },
     "execution_count": 71,
     "metadata": {},
     "output_type": "execute_result"
    }
   ],
   "source": [
    "suma = lambda x,y: x+y\n",
    "resultado = suma(10,10)\n",
    "resultado"
   ]
  },
  {
   "cell_type": "code",
   "execution_count": 76,
   "id": "dff4b8dd",
   "metadata": {},
   "outputs": [
    {
     "data": {
      "text/plain": [
       "[(1, 5), (1, 10), (20, 20)]"
      ]
     },
     "execution_count": 76,
     "metadata": {},
     "output_type": "execute_result"
    }
   ],
   "source": [
    "puntos = [(1,10), (1,5), (20,20)]\n",
    "puntos_ordenados = sorted(puntos, key=lambda x: x[1])\n",
    "puntos_ordenados"
   ]
  },
  {
   "cell_type": "code",
   "execution_count": 78,
   "id": "6d5cade1",
   "metadata": {},
   "outputs": [],
   "source": [
    "#Ejemplos de aplicación de Lambda en DataFrames \n",
    "import pandas as pd\n",
    "df = pd.DataFrame({'numeros': [1,2,3,4,5,6,7,8,9,10]})"
   ]
  },
  {
   "cell_type": "code",
   "execution_count": 80,
   "id": "0fb69c23",
   "metadata": {},
   "outputs": [],
   "source": [
    "df['numero_doble'] = df['numeros'].apply(lambda x: x*2)"
   ]
  },
  {
   "cell_type": "code",
   "execution_count": 82,
   "id": "e822345f",
   "metadata": {},
   "outputs": [],
   "source": [
    "df_filtrado = df[df['numeros'].apply(lambda x: x % 2 == 0)]"
   ]
  }
 ],
 "metadata": {
  "kernelspec": {
   "display_name": "Python 3 (ipykernel)",
   "language": "python",
   "name": "python3"
  },
  "language_info": {
   "codemirror_mode": {
    "name": "ipython",
    "version": 3
   },
   "file_extension": ".py",
   "mimetype": "text/x-python",
   "name": "python",
   "nbconvert_exporter": "python",
   "pygments_lexer": "ipython3",
   "version": "3.9.13"
  }
 },
 "nbformat": 4,
 "nbformat_minor": 5
}
