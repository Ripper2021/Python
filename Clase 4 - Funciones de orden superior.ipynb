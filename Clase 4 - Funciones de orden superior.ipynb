{
 "cells": [
  {
   "cell_type": "code",
   "execution_count": 1,
   "id": "9b79b459",
   "metadata": {},
   "outputs": [],
   "source": [
    "### Teoria ###\n",
    "# Las funciones de orden superior son funciones que pueden tomar como argumentos OTRAS funciones o devolver funciones como\n",
    "# resultado. Las funciones de orden superior son utiles cuando queremos abstraer la logica comun de varias funciones en una\n",
    "# sola, o cuando queremos crear funciones mas especializadas a partir de una función generica.\n",
    "# Las funciones de orden superior se usan mucho con el paradigma de programación funcional. \n",
    "# Algunas funciones de orden superior:\n",
    "# map(): aplica una función a cada elemento de un iterable y devuelve un nuevo iterable como resultado.\n",
    "# filter(): filtra elementos de un interable que cumplan cierta condición y devuelve un nuevo iterable con los elementos\n",
    "# filtrados.\n",
    "# reduce(): aplica una función acumulativa a los elementos de un iterable y devuelve un resultado ACUMULADO.\n",
    "# sorted(): ordena los elementos de un iterable de acuerdo a una función de ordenamiento personalizada.\n",
    "# any(): devuelve \"True\" si al menos un elemento de un iterable cumple una condición dada por una función.\n",
    "# all(): devuelve \"True\" si todos los elementos de un iterable cumplen una condición dada por una función. \n",
    "\n",
    "#Nos brindan MAYOR MODULARIDAD del codigo, permite que el codigo sea mas reutilizable tambien."
   ]
  },
  {
   "cell_type": "code",
   "execution_count": 48,
   "id": "bd673ad7",
   "metadata": {},
   "outputs": [
    {
     "name": "stdout",
     "output_type": "stream",
     "text": [
      "[1, 4, 9, 16, 25, 36, 49, 64, 81, 100]\n",
      "[2, 4, 6, 8, 10]\n",
      "55\n",
      "-53\n",
      "['Angel', 'Angela', 'David', 'Fernando', 'Gustavo']\n",
      "['Gustavo', 'Fernando', 'David', 'Angela', 'Angel']\n",
      "True\n",
      "True\n"
     ]
    }
   ],
   "source": [
    "#### ACLARACION IMPORTANTE:\n",
    "#### Si se observa que nos devuelve la posición en memoria debemos convertirlo a tipo list().\n",
    "#Ejemplo de map()\n",
    "def cuadrado(x):\n",
    "    return x**2\n",
    "\n",
    "numeros = [1,2,3,4,5,6,7,8,9,10]\n",
    "orden_sup_cuadrados = map(cuadrado, numeros)\n",
    "print(list(orden_sup_cuadrados))\n",
    "#for elementos in orden_sup_cuadrados:\n",
    "#    print (elementos)\n",
    "\n",
    "#Ejemplo de filter()\n",
    "def es_par(x):\n",
    "    return x % 2 == 0\n",
    "numeros = [1,2,3,4,5,6,7,8,9,10]\n",
    "orden_sup_pares = filter(es_par, numeros)\n",
    "print(list(orden_sup_pares)) #list \n",
    "\n",
    "#Ejemplo de reduce()\n",
    "from functools import reduce\n",
    "def suma(x, y):\n",
    "    return x + y\n",
    "\n",
    "numeros = [1,2,3,4,5,6,7,8,9,10]\n",
    "orden_sup_suma_total = reduce(suma,numeros)\n",
    "print(orden_sup_suma_total)\n",
    "\n",
    "#Otro ejemplo de reduce\n",
    "from functools import reduce\n",
    "def resta(x, y):\n",
    "    return x - y\n",
    "numeros = [1,2,3,4,5,6,7,8,9,10]\n",
    "orden_sup_resta_total = reduce(resta, numeros)\n",
    "print(orden_sup_resta_total)\n",
    "\n",
    "#Ejemplo de sorted() orden ascendente\n",
    "nombres = ['Angela', 'Angel', 'Fernando', 'Gustavo', 'David']\n",
    "orden_sup_nombres_ordenados = sorted(nombres)\n",
    "print(orden_sup_nombres_ordenados)\n",
    "\n",
    "#Ejemplo de sorted() orden descendente\n",
    "nombres = ['Angela', 'Angel', 'Fernando', 'Gustavo', 'David']\n",
    "orden_sup_nombres_ordenados_inv = sorted(nombres, reverse=True)\n",
    "print(orden_sup_nombres_ordenados_inv)\n",
    "\n",
    "#Ejemplo de any()\n",
    "lista_booleana = [True, False, False, False, False]\n",
    "orden_sup_hay_algun_true = any(lista_booleana)\n",
    "print(orden_sup_hay_algun_true)\n",
    "\n",
    "#Ejemplo de all() Siempre que NO haya un FALSE va a devolver True. \n",
    "lista_booleana = ['G', 1, 'Ä']\n",
    "orden_sup_todos_false = all(lista_booleana)\n",
    "print(orden_sup_todos_false)"
   ]
  },
  {
   "cell_type": "code",
   "execution_count": 52,
   "id": "ba33e665",
   "metadata": {},
   "outputs": [
    {
     "name": "stdout",
     "output_type": "stream",
     "text": [
      "<class 'datetime.datetime'>\n",
      "2023-04-14 00:00:00\n"
     ]
    }
   ],
   "source": [
    "from datetime import datetime\n",
    "fecha_str = \"14/04/2023\"\n",
    "formato_fecha = \"%d/%m/%Y\"\n",
    "fecha_objeto = datetime.strptime(fecha_str, formato_fecha)\n",
    "print(type(fecha_objeto))\n",
    "print(fecha_objeto)"
   ]
  }
 ],
 "metadata": {
  "kernelspec": {
   "display_name": "Python 3 (ipykernel)",
   "language": "python",
   "name": "python3"
  },
  "language_info": {
   "codemirror_mode": {
    "name": "ipython",
    "version": 3
   },
   "file_extension": ".py",
   "mimetype": "text/x-python",
   "name": "python",
   "nbconvert_exporter": "python",
   "pygments_lexer": "ipython3",
   "version": "3.9.13"
  }
 },
 "nbformat": 4,
 "nbformat_minor": 5
}
