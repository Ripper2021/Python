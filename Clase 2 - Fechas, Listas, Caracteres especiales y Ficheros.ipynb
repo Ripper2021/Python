{
 "cells": [
  {
   "cell_type": "code",
   "execution_count": 90,
   "id": "5c4a4c57",
   "metadata": {},
   "outputs": [],
   "source": [
    "import datetime as a\n",
    "import os"
   ]
  },
  {
   "cell_type": "code",
   "execution_count": 7,
   "id": "adc21d4a",
   "metadata": {},
   "outputs": [
    {
     "name": "stdout",
     "output_type": "stream",
     "text": [
      "La fecha de hoy es: 2023-04-12\n"
     ]
    }
   ],
   "source": [
    "#Variable para el día de hoy\n",
    "fecha_de_hoy = a.date.today()\n",
    "print(\"La fecha de hoy es:\", fecha_de_hoy)"
   ]
  },
  {
   "cell_type": "code",
   "execution_count": 11,
   "id": "1b4486fd",
   "metadata": {},
   "outputs": [
    {
     "name": "stdout",
     "output_type": "stream",
     "text": [
      "La fecha especifica es:  1992-06-04\n"
     ]
    }
   ],
   "source": [
    "#Variable para la fecha especifica\n",
    "fecha_especifica = a.date(1992, 6, 4)\n",
    "print(\"La fecha especifica es: \", fecha_especifica)"
   ]
  },
  {
   "cell_type": "code",
   "execution_count": 13,
   "id": "01638261",
   "metadata": {},
   "outputs": [
    {
     "name": "stdout",
     "output_type": "stream",
     "text": [
      "El día es:  4\n",
      "El mes es:  6\n",
      "El año es:  1992\n"
     ]
    }
   ],
   "source": [
    "#Como obtener el día, mes y año\n",
    "print(\"El día es: \", fecha_especifica.day)\n",
    "print(\"El mes es: \", fecha_especifica.month)\n",
    "print(\"El año es: \", fecha_especifica.year)"
   ]
  },
  {
   "cell_type": "code",
   "execution_count": 21,
   "id": "77268c19",
   "metadata": {},
   "outputs": [
    {
     "name": "stdout",
     "output_type": "stream",
     "text": [
      "La fecha en formato dd/MM/yyyy es: 12/04/2023\n"
     ]
    }
   ],
   "source": [
    "#Formatear una fecha como cadena de caracteres\n",
    "cadena_fecha_hoy = fecha_de_hoy.strftime(\"%d/%m/%Y\")\n",
    "print(\"La fecha en formato dd/MM/yyyy es:\" , cadena_fecha_hoy)"
   ]
  },
  {
   "cell_type": "code",
   "execution_count": 26,
   "id": "121ee8a9",
   "metadata": {},
   "outputs": [
    {
     "name": "stdout",
     "output_type": "stream",
     "text": [
      "La edad de Gustavo es:  30\n"
     ]
    }
   ],
   "source": [
    "#Calculo la edad entre dos fechas \n",
    "edad = int((fecha_de_hoy - fecha_especifica).days / 365)\n",
    "print(\"La edad de Gustavo es: \", edad)"
   ]
  },
  {
   "cell_type": "code",
   "execution_count": null,
   "id": "b4cc1e1b",
   "metadata": {},
   "outputs": [],
   "source": [
    "################################################### TEMA NUMERO 2 DEL DÍA ###################################################"
   ]
  },
  {
   "cell_type": "code",
   "execution_count": 44,
   "id": "7c85c1ee",
   "metadata": {},
   "outputs": [
    {
     "name": "stdout",
     "output_type": "stream",
     "text": [
      "1\n"
     ]
    }
   ],
   "source": [
    "#Listas\n",
    "mi_lista_nombres = [\"Gustavo\", \"Álvaro\", \"Norma\", \"Pablo\"]\n",
    "mi_lista = [1,2,3,4,5,6,7,8,9,10]\n",
    "print(mi_lista[0]) #Usando los corchetes [] indico a que elemento de la lista quiero acceder "
   ]
  },
  {
   "cell_type": "code",
   "execution_count": 47,
   "id": "93c9e85d",
   "metadata": {},
   "outputs": [
    {
     "name": "stdout",
     "output_type": "stream",
     "text": [
      "Gustavo\n",
      "Álvaro\n",
      "Norma\n",
      "Pablo\n"
     ]
    }
   ],
   "source": [
    "for nombres in mi_lista_nombres:\n",
    "    print(nombres)"
   ]
  },
  {
   "cell_type": "code",
   "execution_count": 45,
   "id": "2f86f238",
   "metadata": {},
   "outputs": [],
   "source": [
    "#Modifico el elemento de una lista\n",
    "mi_lista_nombres\n",
    "mi_lista[9] = 30"
   ]
  },
  {
   "cell_type": "code",
   "execution_count": 39,
   "id": "18324e57",
   "metadata": {},
   "outputs": [],
   "source": [
    "#Agregamos un elemento a la lista\n",
    "mi_lista.append(100)"
   ]
  },
  {
   "cell_type": "code",
   "execution_count": 41,
   "id": "3e874105",
   "metadata": {},
   "outputs": [],
   "source": [
    "#Borrar un elemento de la lista\n",
    "del mi_lista[3] "
   ]
  },
  {
   "cell_type": "code",
   "execution_count": null,
   "id": "826e1d77",
   "metadata": {},
   "outputs": [],
   "source": [
    "######################################### CARACTERES ESPECIALES #########################################"
   ]
  },
  {
   "cell_type": "code",
   "execution_count": 60,
   "id": "60ec91dc",
   "metadata": {},
   "outputs": [
    {
     "name": "stdout",
     "output_type": "stream",
     "text": [
      "Hola Mundo!\n",
      "Que tal?\n",
      "Esto genera espacios como lo hace el ENTER\n"
     ]
    }
   ],
   "source": [
    "print(\"Hola Mundo!\\n\"+\n",
    "       \"Que tal?\\n\"+\n",
    "       \"Esto genera espacios como lo hace el ENTER\")"
   ]
  },
  {
   "cell_type": "code",
   "execution_count": 61,
   "id": "678890d4",
   "metadata": {},
   "outputs": [
    {
     "name": "stdout",
     "output_type": "stream",
     "text": [
      "Y este que hace?\tTabula\n"
     ]
    }
   ],
   "source": [
    "print(\"Y este que hace?\\t\" + \"Tabula\")"
   ]
  },
  {
   "cell_type": "code",
   "execution_count": 80,
   "id": "30193908",
   "metadata": {},
   "outputs": [],
   "source": [
    "######################################### FICHEROS CREACION DE ARCHIVOS #########################################\n",
    "#ruta_archivo = \"C:/SALIDA_PROCESO/archivo_salida.txt\"\n",
    "nombre_archivo = \"salida_txt.txt\"\n",
    "archivo = open(nombre_archivo, \"w\") #'W' = write = escribir \n",
    "archivo.write(\"Este es mi mensaje que va a ir dentro del archivo\")\n",
    "archivo.close()"
   ]
  },
  {
   "cell_type": "code",
   "execution_count": 89,
   "id": "d266da82",
   "metadata": {},
   "outputs": [
    {
     "name": "stdout",
     "output_type": "stream",
     "text": [
      "Este es mi mensaje que va a ir dentro del archivo\n"
     ]
    }
   ],
   "source": [
    "######################################### FICHEROS LECTURA DE ARCHIVOS #########################################\n",
    "archivo = open('salida_txt.txt', 'r') #'r' de Read\n",
    "contenido = archivo.read()\n",
    "print(contenido)\n",
    "archivo.close()"
   ]
  },
  {
   "cell_type": "code",
   "execution_count": 88,
   "id": "51e67194",
   "metadata": {},
   "outputs": [
    {
     "name": "stdout",
     "output_type": "stream",
     "text": [
      "['Este es mi mensaje que va a ir dentro del archivo']\n"
     ]
    }
   ],
   "source": [
    "archivo = open('salida_txt.txt', 'r') #'r' de Read\n",
    "lineas = archivo.readlines()\n",
    "print(lineas)\n",
    "archivo.close()"
   ]
  },
  {
   "cell_type": "code",
   "execution_count": 92,
   "id": "9b7c8a89",
   "metadata": {},
   "outputs": [],
   "source": [
    "######################################### FICHEROS ELIMINAR UN ARCHIVO #########################################\n",
    "ruta_archivo = 'C:/Salida_Proceso/archivo_salida.txt'\n",
    "os.remove(ruta_archivo)"
   ]
  },
  {
   "cell_type": "code",
   "execution_count": 132,
   "id": "bc2778fe",
   "metadata": {},
   "outputs": [
    {
     "name": "stdout",
     "output_type": "stream",
     "text": [
      "¡Hola! Gustavo!\n"
     ]
    },
    {
     "data": {
      "text/plain": [
       "11"
      ]
     },
     "execution_count": 132,
     "metadata": {},
     "output_type": "execute_result"
    }
   ],
   "source": [
    "######################################### FUNCIONES #########################################\n",
    "# Es un bloque de codigo que nos permite realizar tareas especificas. \n",
    "# La sintaxis es la siguiente:\n",
    "#  def nombreFuncion (): Def de Definition\n",
    "#        lo que haga la funcion \n",
    "#        return loQueDevuelvaLaFuncion  #Devuelve algo\n",
    "# Los parametros en una funcion se pasan SIEMPRE por referencia. \n",
    "# Las funciones admiten en el return mas de 1 opción. \n",
    "# Se pueden realizar cualquier tipo de operación dentro de las funciones, tales como un IF, while, etctera.\n",
    "# Las funciones deben tener la palabra clave RETURN al final de las mismas, ya que le indica al programa \n",
    "# donde termina una función\n",
    "def saludar(nombre):\n",
    "    print(\"¡Hola!\" , nombre + \"!\") \n",
    "    #return 1\n",
    "saludar(\"Gustavo\") #Llamo a la función\n",
    "def sumar(a, b):\n",
    "    suma = a+b\n",
    "    return suma\n",
    "    #return suma,resta\n",
    "sumar(1,10)  "
   ]
  },
  {
   "cell_type": "code",
   "execution_count": 133,
   "id": "e303795f",
   "metadata": {},
   "outputs": [
    {
     "data": {
      "text/plain": [
       "90.0"
      ]
     },
     "execution_count": 133,
     "metadata": {},
     "output_type": "execute_result"
    }
   ],
   "source": [
    "def calcular_descuento(precio, porcentaje_descuento):\n",
    "    descuento = precio * porcentaje_descuento / 100\n",
    "    precio_final = precio - descuento\n",
    "    return precio_final\n",
    "calcular_descuento(100, 10)"
   ]
  },
  {
   "cell_type": "code",
   "execution_count": 134,
   "id": "ef2c7264",
   "metadata": {},
   "outputs": [
    {
     "data": {
      "text/plain": [
       "81"
      ]
     },
     "execution_count": 134,
     "metadata": {},
     "output_type": "execute_result"
    }
   ],
   "source": [
    "def cuadrado(numero):\n",
    "    return numero ** 2\n",
    "cuadrado(9)"
   ]
  },
  {
   "cell_type": "code",
   "execution_count": 135,
   "id": "ff46872d",
   "metadata": {},
   "outputs": [
    {
     "data": {
      "text/plain": [
       "30"
      ]
     },
     "execution_count": 135,
     "metadata": {},
     "output_type": "execute_result"
    }
   ],
   "source": [
    "def calcular_edad(fecha_nacimiento):\n",
    "    hoy = a.date.today()\n",
    "    edad = int((hoy - fecha_nacimiento).days / 365)\n",
    "    return edad\n",
    "fecha_nacimiento = a.date(1992,6,4)\n",
    "calcular_edad(fecha_nacimiento)"
   ]
  }
 ],
 "metadata": {
  "kernelspec": {
   "display_name": "Python 3 (ipykernel)",
   "language": "python",
   "name": "python3"
  },
  "language_info": {
   "codemirror_mode": {
    "name": "ipython",
    "version": 3
   },
   "file_extension": ".py",
   "mimetype": "text/x-python",
   "name": "python",
   "nbconvert_exporter": "python",
   "pygments_lexer": "ipython3",
   "version": "3.9.13"
  }
 },
 "nbformat": 4,
 "nbformat_minor": 5
}
