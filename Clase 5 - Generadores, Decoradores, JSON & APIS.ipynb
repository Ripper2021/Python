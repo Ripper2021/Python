{
 "cells": [
  {
   "cell_type": "code",
   "execution_count": 12,
   "id": "aba15d96",
   "metadata": {},
   "outputs": [
    {
     "name": "stdout",
     "output_type": "stream",
     "text": [
      "0\n",
      "2\n",
      "4\n",
      "6\n",
      "8\n",
      "Hago un corte entre una función y la otra\n",
      "77\n",
      "37\n",
      "37\n",
      "24\n",
      "51\n",
      "32\n",
      "38\n",
      "10\n",
      "2\n",
      "5\n"
     ]
    }
   ],
   "source": [
    "# En Python los generadores son una herramienta util para trabajar con grandes conjuntos de datos o secuencias, \n",
    "# ya que permiten generar valores de forma eficiente y en tiempo real, en lugar de tener que almacenar todos los valores\n",
    "# en memoria.\n",
    "# Un generador es una función que utiliza la palabra clave YIELD en lugar de RETURN  para devolver un valor. Cuando se llama\n",
    "# a la función, esta devuelve un objeto generador que puede utilizarse para ITERAR a traves de los valores generados por\n",
    "# la función\n",
    "# Ejemplo:\n",
    "def numeros_pares(n):\n",
    "    for i in range(n):\n",
    "        if i % 2 == 0:\n",
    "            yield i\n",
    "par = numeros_pares(10)\n",
    "for numeros in par:\n",
    "    print(numeros)\n",
    "# Es importante destacar que los generadores solo generan los valores cuando son necesarios, es decir, cuando se solicita\n",
    "# el siguiente valor en la secuencia generada. Esto significa que los generadores son muy eficientes en terminos de memoria\n",
    "# y rendimiento cuando se trabaja con grandes conjuntos de datos o secuencias infinitas.\n",
    "print(\"Hago un corte entre una función y la otra\")\n",
    "#Otro ejemplo\n",
    "import random\n",
    "def numeros_aleatorios(n):\n",
    "    for i in range(n):\n",
    "        yield random.randint(1, 100)\n",
    "generar_aleatorios = numeros_aleatorios(10)\n",
    "for num in generar_aleatorios:\n",
    "    print(num)\n",
    "# Al utilizar un generador en lugar de una función qué devuelve una lista (de numeros aleatorios), evitamos tener que\n",
    "# almacenar todos los valores en memoria de una vez, lo que puede ser importante si se trabajando con MILLONES de numeros."
   ]
  },
  {
   "cell_type": "code",
   "execution_count": 27,
   "id": "d8ccfc73",
   "metadata": {
    "scrolled": false
   },
   "outputs": [
    {
     "name": "stdout",
     "output_type": "stream",
     "text": [
      "La suma de 3 y 5 es 8.\n",
      "8\n"
     ]
    }
   ],
   "source": [
    "# DECORADORES:\n",
    "# En Python, un decorador es una función que toma otra función como argumento y devuelve una nueva función que añade\n",
    "# algun comportamiento adicional a la función original sin modificar su codigo. Los decoradores se utilizan a menudo\n",
    "# para modificar el comportamiento de una función, añadiendo caracteristicas como la validación de argumentos, la comprobación\n",
    "# de errores o la medición de tiempo de ejecución de alguna función.\n",
    "# Ejemplo:\n",
    "def decorador(funcion):\n",
    "    def _nueva_funcion(*args, **kwargs): #*args: todos los argumentos que se le quiera pasar.\n",
    "                                         #kwargs: Es una sintaxis de Python que permite a una función un numero variable\n",
    "                                         # de argumentos con nombre (Keyword arguments) en forma de un diccionario.\n",
    "        resultado = funcion (*args, **kwargs)\n",
    "        return resultado\n",
    "    return nueva_funcion\n",
    "def mi_funcion(**kwargs):\n",
    "    for clave, valor in kwargs.items():\n",
    "        print(f'{clave} = {valor}')\n",
    "mi_funcion(a=1, b=2, c=3)\n",
    "\n",
    "def mi_funcion_con_args(*args, **kwargs):\n",
    "    for arg in args:\n",
    "        print(arg)\n",
    "    for clave, valor in kwargs.items():\n",
    "        print(f'{clave} = {valor}') #Es un indicador para formatear una cadena literal. Se utiliza para insertar valores de\n",
    "                                    # variables o expresiones en una cadena de formas mas facil y legible. \n",
    "                                    # La sintaxis para formatear una cadena es agregar llaves '{}' en la cadena\n",
    "                                    # En las posiciones donde se desea insertar valores. Luego se puede pasar los valores\n",
    "                                    # que se desean insertar dentro de la llave usando la sintaxis. \n",
    "mi_funcion_con_args(1,2,3, a=4, b=5, c=6, d=7, e=8, f=9, g=10)\n",
    "#Otro ejemplo (mas simple, espero):\n",
    "def saludar(funcion):\n",
    "    def wrapper():\n",
    "        print(\"Hola mundo!\")\n",
    "        funcion()\n",
    "    return wrapper\n",
    "@saludar\n",
    "def funcion_a_ejecutar():\n",
    "    print(\"Aqui se ejecuta la funcion.\")\n",
    "funcion_a_ejecutar()\n",
    "\n",
    "#Otro ejemplo (espero este sea el bueno)\n",
    "def decorador(funcion):\n",
    "    def funcion_decoradorada():\n",
    "        print(\"Antes de llamar a la funcion\")\n",
    "        funcion()\n",
    "        print(\"Despues de llamar a la funcion\")\n",
    "    return funcion_decoradorada\n",
    "@decorador # Con el arroba se le indica a Python que se va a usar el\n",
    "           # decorador y se le agrega un comportamiento adicional\n",
    "           # a la funcion funcion_decoradorada()\n",
    "def mi_funcion():\n",
    "    print(\"Dentro de la funcion\")\n",
    "mi_funcion()\n",
    "\n",
    "#Un ejemplo de Suma\n",
    "def sumador(funcion):\n",
    "    def suma(x,y):\n",
    "        resultado = funcion(x, y)\n",
    "        print(f\"La suma de {x} y {y} es {resultado}.\")\n",
    "        return resultado\n",
    "    return suma\n",
    "@sumador #Esto indica que es un decorador y que se va a usar para agregar\n",
    "         #funcionalidad a una nueva función, en este caso a la función\n",
    "         # def suma(x, y)\n",
    "def suma(x, y):\n",
    "    return x + y\n",
    "resultado = suma(3, 5)\n",
    "print(resultado)\n",
    "#En resumen los decoradores son una herramienta muy util para añadir comportamientos\n",
    "# adicionales a las funciones en Python, lo que nos permite a nosotros\n",
    "# reutilizar y extender el codigo de manera facil y eficiente. "
   ]
  },
  {
   "cell_type": "code",
   "execution_count": 38,
   "id": "7e3171f9",
   "metadata": {
    "scrolled": true
   },
   "outputs": [
    {
     "name": "stdout",
     "output_type": "stream",
     "text": [
      "5.0\n",
      "Macho, no puedes dividir por cero\n",
      "None\n",
      "Macho, no puedes dividir por cero\n",
      "None\n"
     ]
    }
   ],
   "source": [
    "#Resolucion del ejercicio 8.\n",
    "#Esta es la sintaxis que debe tener una funcion decoradora para \n",
    "# poder implementarse.\n",
    "def funcion_decoradora(funcion):\n",
    "    def funcioncita(x, y):\n",
    "        if x == 0 or y == 0:\n",
    "            print(\"Macho, no puedes dividir por cero\")\n",
    "            return None\n",
    "        else:\n",
    "            return funcion(x, y)\n",
    "    return funcioncita\n",
    "@funcion_decoradora \n",
    "def division (x, y):\n",
    "    return x / y\n",
    "print (division (50, 10))\n",
    "print(division(10,0))\n",
    "print(division(0, 100))"
   ]
  },
  {
   "cell_type": "code",
   "execution_count": 40,
   "id": "f5ae509b",
   "metadata": {},
   "outputs": [],
   "source": [
    "#JSON: Javascript Object Notation: es un intercambio de datos que se utiliza\n",
    "#  ampliamente en aplicaciones WEB. En Python, podemos utilizar el modulo\n",
    "# json para trabajar con datos en formato del mismo.\n",
    "#\"nombre de columna\": \"valor\", \"nombre otra columna\": \"valor\", \"n\": \"m\"\n",
    "import json\n",
    "datos = {\"nombre\":\"Gustavo\", \"apellido\": \"Vargas\", \"edad\": 30, \"ciudad\":\"Barcelona\"}\n",
    "#De Diccionario a JSON\n",
    "json_caracteres = json.dumps(datos) #El Dumps es como el ADD, como el INPUT\n",
    "print(json_caracteres)\n",
    "json_a_python = json.loads(json_caracteres) #Convierto de JSON a Python\n",
    "print(json_a_python)"
   ]
  },
  {
   "cell_type": "code",
   "execution_count": 113,
   "id": "653a4276",
   "metadata": {},
   "outputs": [
    {
     "name": "stdout",
     "output_type": "stream",
     "text": [
      "{'latitude': 41.39, 'longitude': 2.1599998, 'generationtime_ms': 1.047968864440918, 'utc_offset_seconds': 0, 'timezone': 'GMT', 'timezone_abbreviation': 'GMT', 'elevation': 45.0, 'hourly_units': {'time': 'iso8601', 'temperature_2m': '°C'}, 'hourly': {'time': ['2023-04-17T00:00', '2023-04-17T01:00', '2023-04-17T02:00', '2023-04-17T03:00', '2023-04-17T04:00', '2023-04-17T05:00', '2023-04-17T06:00', '2023-04-17T07:00', '2023-04-17T08:00', '2023-04-17T09:00', '2023-04-17T10:00', '2023-04-17T11:00', '2023-04-17T12:00', '2023-04-17T13:00', '2023-04-17T14:00', '2023-04-17T15:00', '2023-04-17T16:00', '2023-04-17T17:00', '2023-04-17T18:00', '2023-04-17T19:00', '2023-04-17T20:00', '2023-04-17T21:00', '2023-04-17T22:00', '2023-04-17T23:00', '2023-04-18T00:00', '2023-04-18T01:00', '2023-04-18T02:00', '2023-04-18T03:00', '2023-04-18T04:00', '2023-04-18T05:00', '2023-04-18T06:00', '2023-04-18T07:00', '2023-04-18T08:00', '2023-04-18T09:00', '2023-04-18T10:00', '2023-04-18T11:00', '2023-04-18T12:00', '2023-04-18T13:00', '2023-04-18T14:00', '2023-04-18T15:00', '2023-04-18T16:00', '2023-04-18T17:00', '2023-04-18T18:00', '2023-04-18T19:00', '2023-04-18T20:00', '2023-04-18T21:00', '2023-04-18T22:00', '2023-04-18T23:00', '2023-04-19T00:00', '2023-04-19T01:00', '2023-04-19T02:00', '2023-04-19T03:00', '2023-04-19T04:00', '2023-04-19T05:00', '2023-04-19T06:00', '2023-04-19T07:00', '2023-04-19T08:00', '2023-04-19T09:00', '2023-04-19T10:00', '2023-04-19T11:00', '2023-04-19T12:00', '2023-04-19T13:00', '2023-04-19T14:00', '2023-04-19T15:00', '2023-04-19T16:00', '2023-04-19T17:00', '2023-04-19T18:00', '2023-04-19T19:00', '2023-04-19T20:00', '2023-04-19T21:00', '2023-04-19T22:00', '2023-04-19T23:00', '2023-04-20T00:00', '2023-04-20T01:00', '2023-04-20T02:00', '2023-04-20T03:00', '2023-04-20T04:00', '2023-04-20T05:00', '2023-04-20T06:00', '2023-04-20T07:00', '2023-04-20T08:00', '2023-04-20T09:00', '2023-04-20T10:00', '2023-04-20T11:00', '2023-04-20T12:00', '2023-04-20T13:00', '2023-04-20T14:00', '2023-04-20T15:00', '2023-04-20T16:00', '2023-04-20T17:00', '2023-04-20T18:00', '2023-04-20T19:00', '2023-04-20T20:00', '2023-04-20T21:00', '2023-04-20T22:00', '2023-04-20T23:00', '2023-04-21T00:00', '2023-04-21T01:00', '2023-04-21T02:00', '2023-04-21T03:00', '2023-04-21T04:00', '2023-04-21T05:00', '2023-04-21T06:00', '2023-04-21T07:00', '2023-04-21T08:00', '2023-04-21T09:00', '2023-04-21T10:00', '2023-04-21T11:00', '2023-04-21T12:00', '2023-04-21T13:00', '2023-04-21T14:00', '2023-04-21T15:00', '2023-04-21T16:00', '2023-04-21T17:00', '2023-04-21T18:00', '2023-04-21T19:00', '2023-04-21T20:00', '2023-04-21T21:00', '2023-04-21T22:00', '2023-04-21T23:00', '2023-04-22T00:00', '2023-04-22T01:00', '2023-04-22T02:00', '2023-04-22T03:00', '2023-04-22T04:00', '2023-04-22T05:00', '2023-04-22T06:00', '2023-04-22T07:00', '2023-04-22T08:00', '2023-04-22T09:00', '2023-04-22T10:00', '2023-04-22T11:00', '2023-04-22T12:00', '2023-04-22T13:00', '2023-04-22T14:00', '2023-04-22T15:00', '2023-04-22T16:00', '2023-04-22T17:00', '2023-04-22T18:00', '2023-04-22T19:00', '2023-04-22T20:00', '2023-04-22T21:00', '2023-04-22T22:00', '2023-04-22T23:00', '2023-04-23T00:00', '2023-04-23T01:00', '2023-04-23T02:00', '2023-04-23T03:00', '2023-04-23T04:00', '2023-04-23T05:00', '2023-04-23T06:00', '2023-04-23T07:00', '2023-04-23T08:00', '2023-04-23T09:00', '2023-04-23T10:00', '2023-04-23T11:00', '2023-04-23T12:00', '2023-04-23T13:00', '2023-04-23T14:00', '2023-04-23T15:00', '2023-04-23T16:00', '2023-04-23T17:00', '2023-04-23T18:00', '2023-04-23T19:00', '2023-04-23T20:00', '2023-04-23T21:00', '2023-04-23T22:00', '2023-04-23T23:00'], 'temperature_2m': [14.4, 14.4, 13.6, 13.3, 12.9, 13.2, 13.5, 15.3, 15.4, 16.5, 16.8, 17.0, 17.2, 17.4, 17.7, 17.4, 17.0, 16.4, 15.8, 15.2, 15.1, 15.0, 15.0, 15.0, 14.5, 14.4, 13.9, 14.1, 13.8, 13.8, 14.7, 16.0, 17.0, 18.1, 18.3, 18.5, 18.7, 18.8, 18.3, 18.2, 17.7, 17.1, 16.0, 14.4, 13.4, 12.7, 12.0, 11.3, 11.1, 10.9, 10.7, 10.6, 10.3, 10.1, 10.4, 11.9, 15.0, 16.7, 17.5, 17.8, 18.2, 18.3, 18.3, 18.0, 17.5, 16.9, 16.1, 15.1, 14.3, 13.6, 12.8, 12.1, 11.7, 11.5, 11.2, 11.0, 10.8, 10.8, 11.0, 13.0, 15.3, 17.0, 18.1, 18.7, 18.9, 18.3, 17.4, 16.0, 15.5, 15.0, 14.1, 13.2, 12.9, 12.6, 12.6, 12.5, 12.5, 11.9, 11.4, 11.3, 11.2, 10.9, 11.3, 13.4, 15.7, 18.3, 19.4, 20.1, 20.6, 20.6, 20.4, 19.8, 19.1, 18.3, 17.1, 16.2, 15.3, 14.2, 13.6, 13.1, 12.7, 12.3, 12.1, 12.0, 12.3, 12.8, 13.3, 15.2, 15.6, 16.3, 17.0, 17.8, 18.7, 19.2, 19.6, 19.7, 19.4, 18.7, 17.8, 17.3, 16.8, 16.1, 15.3, 14.4, 13.5, 13.4, 13.7, 14.0, 13.7, 13.3, 13.5, 15.0, 17.2, 19.8, 21.0, 21.9, 22.5, 22.4, 21.9, 21.0, 20.4, 19.8, 18.7, 17.7, 16.6, 15.3, 14.6, 13.9]}}\n"
     ]
    }
   ],
   "source": [
    "import json #Libreria para manipular información en formato de JSON\n",
    "import requests # Esta libreria se encarga de establecer conexiones\n",
    "                # Y metodos para las mismas\n",
    "url = 'https://api.open-meteo.com/v1/forecast?latitude=41.39&longitude=2.16&hourly=temperature_2m'\n",
    "     #Declaro la URL que nos permita conectarnos a la información de la APi\n",
    "     # Tambien conocida como el endpoint\n",
    "response = requests.get(url) #Declaro una variable que establece la conexino\n",
    "                             # Con la URL y hace el pedido de GET \n",
    "if response.status_code == 200: #El codigo 200 es el codigo de conexion\n",
    "                                # realizada satisfacctoriamente.\n",
    "    data = response.json() #Almaceno la información en una variable llamada DATA\n",
    "    print(data)\n",
    "else:\n",
    "    \"No te pudiste conectar macho\""
   ]
  },
  {
   "cell_type": "code",
   "execution_count": 101,
   "id": "0eb0380f",
   "metadata": {},
   "outputs": [
    {
     "name": "stdout",
     "output_type": "stream",
     "text": [
      "El día es 2023-04-17T00:00 y la temperatura sera de 14.4 grados\n",
      "{'latitude': 41.39, 'longitude': 2.1599998, 'generationtime_ms': 0.17690658569335938, 'utc_offset_seconds': 0, 'timezone': 'GMT', 'timezone_abbreviation': 'GMT', 'elevation': 45.0, 'hourly_units': {'time': 'iso8601', 'temperature_2m': '°C'}, 'hourly': {'time': ['2023-04-17T00:00', '2023-04-17T01:00', '2023-04-17T02:00', '2023-04-17T03:00', '2023-04-17T04:00', '2023-04-17T05:00', '2023-04-17T06:00', '2023-04-17T07:00', '2023-04-17T08:00', '2023-04-17T09:00', '2023-04-17T10:00', '2023-04-17T11:00', '2023-04-17T12:00', '2023-04-17T13:00', '2023-04-17T14:00', '2023-04-17T15:00', '2023-04-17T16:00', '2023-04-17T17:00', '2023-04-17T18:00', '2023-04-17T19:00', '2023-04-17T20:00', '2023-04-17T21:00', '2023-04-17T22:00', '2023-04-17T23:00', '2023-04-18T00:00', '2023-04-18T01:00', '2023-04-18T02:00', '2023-04-18T03:00', '2023-04-18T04:00', '2023-04-18T05:00', '2023-04-18T06:00', '2023-04-18T07:00', '2023-04-18T08:00', '2023-04-18T09:00', '2023-04-18T10:00', '2023-04-18T11:00', '2023-04-18T12:00', '2023-04-18T13:00', '2023-04-18T14:00', '2023-04-18T15:00', '2023-04-18T16:00', '2023-04-18T17:00', '2023-04-18T18:00', '2023-04-18T19:00', '2023-04-18T20:00', '2023-04-18T21:00', '2023-04-18T22:00', '2023-04-18T23:00', '2023-04-19T00:00', '2023-04-19T01:00', '2023-04-19T02:00', '2023-04-19T03:00', '2023-04-19T04:00', '2023-04-19T05:00', '2023-04-19T06:00', '2023-04-19T07:00', '2023-04-19T08:00', '2023-04-19T09:00', '2023-04-19T10:00', '2023-04-19T11:00', '2023-04-19T12:00', '2023-04-19T13:00', '2023-04-19T14:00', '2023-04-19T15:00', '2023-04-19T16:00', '2023-04-19T17:00', '2023-04-19T18:00', '2023-04-19T19:00', '2023-04-19T20:00', '2023-04-19T21:00', '2023-04-19T22:00', '2023-04-19T23:00', '2023-04-20T00:00', '2023-04-20T01:00', '2023-04-20T02:00', '2023-04-20T03:00', '2023-04-20T04:00', '2023-04-20T05:00', '2023-04-20T06:00', '2023-04-20T07:00', '2023-04-20T08:00', '2023-04-20T09:00', '2023-04-20T10:00', '2023-04-20T11:00', '2023-04-20T12:00', '2023-04-20T13:00', '2023-04-20T14:00', '2023-04-20T15:00', '2023-04-20T16:00', '2023-04-20T17:00', '2023-04-20T18:00', '2023-04-20T19:00', '2023-04-20T20:00', '2023-04-20T21:00', '2023-04-20T22:00', '2023-04-20T23:00', '2023-04-21T00:00', '2023-04-21T01:00', '2023-04-21T02:00', '2023-04-21T03:00', '2023-04-21T04:00', '2023-04-21T05:00', '2023-04-21T06:00', '2023-04-21T07:00', '2023-04-21T08:00', '2023-04-21T09:00', '2023-04-21T10:00', '2023-04-21T11:00', '2023-04-21T12:00', '2023-04-21T13:00', '2023-04-21T14:00', '2023-04-21T15:00', '2023-04-21T16:00', '2023-04-21T17:00', '2023-04-21T18:00', '2023-04-21T19:00', '2023-04-21T20:00', '2023-04-21T21:00', '2023-04-21T22:00', '2023-04-21T23:00', '2023-04-22T00:00', '2023-04-22T01:00', '2023-04-22T02:00', '2023-04-22T03:00', '2023-04-22T04:00', '2023-04-22T05:00', '2023-04-22T06:00', '2023-04-22T07:00', '2023-04-22T08:00', '2023-04-22T09:00', '2023-04-22T10:00', '2023-04-22T11:00', '2023-04-22T12:00', '2023-04-22T13:00', '2023-04-22T14:00', '2023-04-22T15:00', '2023-04-22T16:00', '2023-04-22T17:00', '2023-04-22T18:00', '2023-04-22T19:00', '2023-04-22T20:00', '2023-04-22T21:00', '2023-04-22T22:00', '2023-04-22T23:00', '2023-04-23T00:00', '2023-04-23T01:00', '2023-04-23T02:00', '2023-04-23T03:00', '2023-04-23T04:00', '2023-04-23T05:00', '2023-04-23T06:00', '2023-04-23T07:00', '2023-04-23T08:00', '2023-04-23T09:00', '2023-04-23T10:00', '2023-04-23T11:00', '2023-04-23T12:00', '2023-04-23T13:00', '2023-04-23T14:00', '2023-04-23T15:00', '2023-04-23T16:00', '2023-04-23T17:00', '2023-04-23T18:00', '2023-04-23T19:00', '2023-04-23T20:00', '2023-04-23T21:00', '2023-04-23T22:00', '2023-04-23T23:00'], 'temperature_2m': [14.4, 14.4, 13.6, 13.3, 12.9, 13.2, 14.2, 15.2, 16.3, 16.9, 17.1, 17.3, 17.8, 17.8, 17.4, 17.2, 16.9, 16.5, 15.5, 15.4, 15.3, 15.0, 15.0, 14.8, 14.8, 14.6, 14.6, 14.8, 14.7, 14.4, 15.2, 16.5, 17.8, 18.8, 19.2, 19.3, 19.3, 19.4, 19.2, 18.9, 18.4, 17.6, 16.5, 14.5, 13.3, 12.9, 12.5, 11.7, 11.6, 11.2, 11.0, 10.8, 10.6, 10.3, 10.4, 11.9, 15.1, 16.7, 17.4, 17.4, 17.9, 18.2, 18.2, 18.0, 17.8, 17.3, 16.3, 15.3, 14.2, 13.3, 12.6, 12.0, 11.7, 11.4, 11.0, 10.9, 10.9, 11.0, 11.2, 13.0, 15.3, 17.0, 18.1, 18.7, 18.9, 18.3, 17.4, 16.0, 15.5, 15.0, 14.1, 13.2, 12.9, 12.6, 12.6, 12.5, 12.5, 11.9, 11.4, 11.3, 11.2, 10.9, 11.3, 13.4, 15.7, 18.3, 19.4, 20.1, 20.6, 20.6, 20.4, 19.8, 19.1, 18.3, 17.1, 16.2, 15.3, 14.2, 13.6, 13.1, 12.7, 12.3, 12.1, 12.0, 12.3, 12.8, 13.3, 15.2, 15.6, 16.3, 17.0, 17.8, 18.7, 19.2, 19.6, 19.7, 19.4, 18.7, 17.8, 17.3, 16.8, 16.1, 15.3, 14.4, 13.5, 13.4, 13.7, 14.0, 13.7, 13.3, 13.5, 15.0, 17.2, 19.8, 21.0, 21.9, 22.5, 22.4, 21.9, 21.0, 20.4, 19.8, 18.7, 17.7, 16.6, 15.3, 14.6, 13.9]}}\n"
     ]
    }
   ],
   "source": [
    "import json\n",
    "import requests\n",
    "url = 'https://api.open-meteo.com/v1/forecast?latitude=41.39&longitude=2.16&hourly=temperature_2m'\n",
    "response = requests.get(url)\n",
    "if response.status_code == 200:\n",
    "    data = response.json()\n",
    "    primer_temperatura = data['hourly']['temperature_2m']\n",
    "    tiempo_primer_temperatura = data['hourly']['time']\n",
    "    valor_tiempo_primer_temp = tiempo_primer_temperatura[0]\n",
    "    valor_primer_temp = primer_temperatura[0]\n",
    "    print(\n",
    "          f'El día es {valor_tiempo_primer_temp} y la temperatura sera de {valor_primer_temp} grados')\n",
    "    print(data)\n",
    "    #print(data['latitude'])\n",
    "    #print(data['longitude'])\n",
    "    #print(data['hourly']['temperature_2m'])\n",
    "else:\n",
    "    print(\"No se pudo obtener información de la API\")"
   ]
  },
  {
   "cell_type": "code",
   "execution_count": 112,
   "id": "ed11cf21",
   "metadata": {},
   "outputs": [
    {
     "name": "stdout",
     "output_type": "stream",
     "text": [
      "Introduce un numero entero: A\n",
      "Error: debes introducir un numero entero.\n",
      "{'latitude': 41.39, 'longitude': 2.1599998, 'generationtime_ms': 0.1291036605834961, 'utc_offset_seconds': 0, 'timezone': 'GMT', 'timezone_abbreviation': 'GMT', 'elevation': 45.0, 'hourly_units': {'time': 'iso8601', 'temperature_2m': '°C'}, 'hourly': {'time': ['2023-04-17T00:00', '2023-04-17T01:00', '2023-04-17T02:00', '2023-04-17T03:00', '2023-04-17T04:00', '2023-04-17T05:00', '2023-04-17T06:00', '2023-04-17T07:00', '2023-04-17T08:00', '2023-04-17T09:00', '2023-04-17T10:00', '2023-04-17T11:00', '2023-04-17T12:00', '2023-04-17T13:00', '2023-04-17T14:00', '2023-04-17T15:00', '2023-04-17T16:00', '2023-04-17T17:00', '2023-04-17T18:00', '2023-04-17T19:00', '2023-04-17T20:00', '2023-04-17T21:00', '2023-04-17T22:00', '2023-04-17T23:00', '2023-04-18T00:00', '2023-04-18T01:00', '2023-04-18T02:00', '2023-04-18T03:00', '2023-04-18T04:00', '2023-04-18T05:00', '2023-04-18T06:00', '2023-04-18T07:00', '2023-04-18T08:00', '2023-04-18T09:00', '2023-04-18T10:00', '2023-04-18T11:00', '2023-04-18T12:00', '2023-04-18T13:00', '2023-04-18T14:00', '2023-04-18T15:00', '2023-04-18T16:00', '2023-04-18T17:00', '2023-04-18T18:00', '2023-04-18T19:00', '2023-04-18T20:00', '2023-04-18T21:00', '2023-04-18T22:00', '2023-04-18T23:00', '2023-04-19T00:00', '2023-04-19T01:00', '2023-04-19T02:00', '2023-04-19T03:00', '2023-04-19T04:00', '2023-04-19T05:00', '2023-04-19T06:00', '2023-04-19T07:00', '2023-04-19T08:00', '2023-04-19T09:00', '2023-04-19T10:00', '2023-04-19T11:00', '2023-04-19T12:00', '2023-04-19T13:00', '2023-04-19T14:00', '2023-04-19T15:00', '2023-04-19T16:00', '2023-04-19T17:00', '2023-04-19T18:00', '2023-04-19T19:00', '2023-04-19T20:00', '2023-04-19T21:00', '2023-04-19T22:00', '2023-04-19T23:00', '2023-04-20T00:00', '2023-04-20T01:00', '2023-04-20T02:00', '2023-04-20T03:00', '2023-04-20T04:00', '2023-04-20T05:00', '2023-04-20T06:00', '2023-04-20T07:00', '2023-04-20T08:00', '2023-04-20T09:00', '2023-04-20T10:00', '2023-04-20T11:00', '2023-04-20T12:00', '2023-04-20T13:00', '2023-04-20T14:00', '2023-04-20T15:00', '2023-04-20T16:00', '2023-04-20T17:00', '2023-04-20T18:00', '2023-04-20T19:00', '2023-04-20T20:00', '2023-04-20T21:00', '2023-04-20T22:00', '2023-04-20T23:00', '2023-04-21T00:00', '2023-04-21T01:00', '2023-04-21T02:00', '2023-04-21T03:00', '2023-04-21T04:00', '2023-04-21T05:00', '2023-04-21T06:00', '2023-04-21T07:00', '2023-04-21T08:00', '2023-04-21T09:00', '2023-04-21T10:00', '2023-04-21T11:00', '2023-04-21T12:00', '2023-04-21T13:00', '2023-04-21T14:00', '2023-04-21T15:00', '2023-04-21T16:00', '2023-04-21T17:00', '2023-04-21T18:00', '2023-04-21T19:00', '2023-04-21T20:00', '2023-04-21T21:00', '2023-04-21T22:00', '2023-04-21T23:00', '2023-04-22T00:00', '2023-04-22T01:00', '2023-04-22T02:00', '2023-04-22T03:00', '2023-04-22T04:00', '2023-04-22T05:00', '2023-04-22T06:00', '2023-04-22T07:00', '2023-04-22T08:00', '2023-04-22T09:00', '2023-04-22T10:00', '2023-04-22T11:00', '2023-04-22T12:00', '2023-04-22T13:00', '2023-04-22T14:00', '2023-04-22T15:00', '2023-04-22T16:00', '2023-04-22T17:00', '2023-04-22T18:00', '2023-04-22T19:00', '2023-04-22T20:00', '2023-04-22T21:00', '2023-04-22T22:00', '2023-04-22T23:00', '2023-04-23T00:00', '2023-04-23T01:00', '2023-04-23T02:00', '2023-04-23T03:00', '2023-04-23T04:00', '2023-04-23T05:00', '2023-04-23T06:00', '2023-04-23T07:00', '2023-04-23T08:00', '2023-04-23T09:00', '2023-04-23T10:00', '2023-04-23T11:00', '2023-04-23T12:00', '2023-04-23T13:00', '2023-04-23T14:00', '2023-04-23T15:00', '2023-04-23T16:00', '2023-04-23T17:00', '2023-04-23T18:00', '2023-04-23T19:00', '2023-04-23T20:00', '2023-04-23T21:00', '2023-04-23T22:00', '2023-04-23T23:00'], 'temperature_2m': [14.4, 14.4, 13.6, 13.3, 12.9, 13.2, 13.5, 15.3, 15.4, 16.5, 16.8, 17.0, 17.2, 17.4, 17.7, 17.4, 17.0, 16.4, 15.8, 15.2, 15.1, 15.0, 15.0, 15.0, 14.5, 14.4, 13.9, 14.1, 13.8, 13.8, 14.7, 16.0, 17.0, 18.1, 18.3, 18.5, 18.7, 18.8, 18.3, 18.2, 17.7, 17.1, 16.0, 14.4, 13.4, 12.7, 12.0, 11.3, 11.1, 10.9, 10.7, 10.6, 10.3, 10.1, 10.4, 11.9, 15.0, 16.7, 17.5, 17.8, 18.2, 18.3, 18.3, 18.0, 17.5, 16.9, 16.1, 15.1, 14.3, 13.6, 12.8, 12.1, 11.7, 11.5, 11.2, 11.0, 10.8, 10.8, 11.0, 13.0, 15.3, 17.0, 18.1, 18.7, 18.9, 18.3, 17.4, 16.0, 15.5, 15.0, 14.1, 13.2, 12.9, 12.6, 12.6, 12.5, 12.5, 11.9, 11.4, 11.3, 11.2, 10.9, 11.3, 13.4, 15.7, 18.3, 19.4, 20.1, 20.6, 20.6, 20.4, 19.8, 19.1, 18.3, 17.1, 16.2, 15.3, 14.2, 13.6, 13.1, 12.7, 12.3, 12.1, 12.0, 12.3, 12.8, 13.3, 15.2, 15.6, 16.3, 17.0, 17.8, 18.7, 19.2, 19.6, 19.7, 19.4, 18.7, 17.8, 17.3, 16.8, 16.1, 15.3, 14.4, 13.5, 13.4, 13.7, 14.0, 13.7, 13.3, 13.5, 15.0, 17.2, 19.8, 21.0, 21.9, 22.5, 22.4, 21.9, 21.0, 20.4, 19.8, 18.7, 17.7, 16.6, 15.3, 14.6, 13.9]}}\n",
      "Error: El archivo no existe\n",
      "Ingrese el primer numero: 10\n",
      "Ingrese el segundo numero: 0\n",
      "Error: no se puede dividir por cero\n"
     ]
    }
   ],
   "source": [
    "# EXCEPCIONES\n",
    "# Las excepciones en Python son errores que ocurren durante la ejecución de\n",
    "# un programa. En lugar de simplemente detener la ejecución del mismo, Python\n",
    "# lanza una excepcion que puede ser manejada por el codigo para evitar\n",
    "# que el programa se bloquee.\n",
    "#Las excepciones pueden ser manejadas utilizando bloques try y except \n",
    "# Try y except. En un bloque de try se coloca lo que el codigo debería hacer.\n",
    "# En el bloque de except se coloca lo que debería manejar, el error que puede\n",
    "# suceder\n",
    "#Tipos de excepciones que puede haber en Python\n",
    "# Entrada de usuario: Un usuario ingresa un valor por consola.\n",
    "# Conexiones de red: Si un programa realiza conexiones de red, como una solicitud\n",
    "# HTTP a una API se debe manejar con excepciones\n",
    "# Operaciones de archivo: si un programa lee o escribe archivos, se deben\n",
    "# manejar con excepciones\n",
    "# Operaciones de base de datos: Si un programa interactua con una base de datos\n",
    "# se deben manejar excepciones en caso de errores de conexiones o error de\n",
    "# consultas.\n",
    "# Operaciones matematicas: Si un programa realiza operaciones matematicas,\n",
    "# se deben manejar excepciones en caso de errores, como una division por cero.\n",
    "#Ejemplo de entrada de usuario:\n",
    "try:\n",
    "    num= int(input(\"Introduce un numero entero: \"))\n",
    "    print(\"El numero es: \", num)\n",
    "except ValueError:\n",
    "    print(\"Error: debes introducir un numero entero.\")\n",
    "\n",
    "#Ejemplo de conexiones con API:\n",
    "import json #Libreria para manipular información en formato de JSON\n",
    "import requests # Esta libreria se encarga de establecer conexiones\n",
    "                # Y metodos para las mismas\n",
    "try:\n",
    "    url = 'https://api.open-meteo.com/v1/forecast?latitude=41.39&longitude=2.16&hourly=temperature_2m'\n",
    "     #Declaro la URL que nos permita conectarnos a la información de la APi\n",
    "     # Tambien conocida como el endpoint\n",
    "    response = requests.get(url) #Declaro una variable que establece la conexino\n",
    "    data = response.json() #Almaceno la información en una variable llamada DATA\n",
    "    print(data)\n",
    "except requests.exception.requestExcepcion as e:\n",
    "    print(\"Error de conexion:\", e)\n",
    "\n",
    "# Ejemplo de manejo de ficheros:\n",
    "try: \n",
    "    with open(\"ficticio.txt\", 'r') as f:\n",
    "        contenido = f.read()\n",
    "    print(\"El contenido del archivo es:\", contenido)\n",
    "except FileNotFoundError:\n",
    "    print(\"Error: El archivo no existe\")\n",
    "except IOError:\n",
    "    print(\"El archivo no se puede abrir\")\n",
    "\n",
    "#Ejempo de base de datos\n",
    "\"\"\"\n",
    "try:\n",
    "    conn = sqlite3.connect(\"datos.db\")\n",
    "    c = conn.cursor()\n",
    "except sqlite3.Error as e:\n",
    "    print(\"Error de base de datos: \", e)\n",
    "finally:\n",
    "    conn.close()\n",
    "\"\"\"\n",
    "#Ejemplo de operaciones matematicas\n",
    "try:\n",
    "    num1 = int(input(\"Ingrese el primer numero: \"))\n",
    "    num2 = int(input(\"Ingrese el segundo numero: \"))\n",
    "    resultado = num1 / num2\n",
    "    print(\"El resultado es: \", resultado)\n",
    "except ZeroDivisionError:\n",
    "    print(\"Error: no se puede dividir por cero\")"
   ]
  }
 ],
 "metadata": {
  "kernelspec": {
   "display_name": "Python 3 (ipykernel)",
   "language": "python",
   "name": "python3"
  },
  "language_info": {
   "codemirror_mode": {
    "name": "ipython",
    "version": 3
   },
   "file_extension": ".py",
   "mimetype": "text/x-python",
   "name": "python",
   "nbconvert_exporter": "python",
   "pygments_lexer": "ipython3",
   "version": "3.9.13"
  }
 },
 "nbformat": 4,
 "nbformat_minor": 5
}
